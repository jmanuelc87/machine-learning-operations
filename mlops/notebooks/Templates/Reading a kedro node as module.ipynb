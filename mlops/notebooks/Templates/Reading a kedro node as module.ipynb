{
 "cells": [
  {
   "cell_type": "markdown",
   "id": "3707d803c0161f1d",
   "metadata": {},
   "source": [
    "# Importación de un nodo, como módulo de una librería\n",
    "Nuevamante esto es útil cuando estas en una etapa de experiemntación dentro de un notebook. Puedes definir una serie de nodos (funciones) y ejecutarlas directamente en el notebook para poder hacer pruebas en el procesmaiento que estas planteando\n",
    "  "
   ]
  },
  {
   "cell_type": "markdown",
   "id": "f53b187d8ba22220",
   "metadata": {},
   "source": [
    "## 1) Añade el Directorio src/ al PYTHONPATH\n",
    "Para que Python pueda encontrar tus módulos, debes asegurarte de que el directorio src/ esté en tu PYTHONPATH\n"
   ]
  },
  {
   "cell_type": "code",
   "execution_count": 9,
   "id": "828997a865346191",
   "metadata": {
    "ExecuteTime": {
     "end_time": "2024-10-07T04:58:26.236532Z",
     "start_time": "2024-10-07T04:58:26.211901Z"
    }
   },
   "outputs": [
    {
     "name": "stdout",
     "output_type": "stream",
     "text": [
      "Direccion: /Users/orlandoandrade/Documents/Maestria en inteligencia artificial aplicada/Materias/3 trimestre/Repositorio/Repositorio grupal/machine-learning-operations/mlops/src\n"
     ]
    }
   ],
   "source": [
    "import sys\n",
    "import os\n",
    "\n",
    "# Establece la ruta al directorio raíz del proyecto\n",
    "project_path = os.getcwd() # Obtección de la direccion del archivo actual \n",
    "project_path = os.path.dirname(project_path) # Retrocedemos un directorio \n",
    "\n",
    "src_path = os.path.join(project_path, \"src\") \n",
    "\n",
    "print(\"Direccion:\", src_path)\n",
    "\n",
    "# Añade src/ al sys.path si no está ya presente\n",
    "if src_path not in sys.path:\n",
    "    sys.path.append(src_path)\n",
    "    \n",
    "# NOTA: sys.path: Es una lista que contiene las rutas en las que Python busca los módulos y paquetes cuando los importas en un script. Si una carpeta no está en esta lista, Python no puede encontrar los archivos dentro de esa carpeta cuando intentas importarlos    "
   ]
  },
  {
   "cell_type": "markdown",
   "id": "340ceedb269b9f35",
   "metadata": {},
   "source": [
    "## 2) Importación de nodos \n"
   ]
  },
  {
   "cell_type": "code",
   "execution_count": 2,
   "id": "efc1286637206089",
   "metadata": {
    "ExecuteTime": {
     "end_time": "2024-10-07T04:51:56.459011Z",
     "start_time": "2024-10-07T04:51:56.080047Z"
    }
   },
   "outputs": [],
   "source": [
    "from mlops.pipelines.ML.nodes import boxplot\n",
    "#from mlops.src.mlops.pipelines.ML.nodes import boxplot\n",
    "\n",
    "\n",
    "# PENDIENTE CORREGIR ESTO !!! "
   ]
  },
  {
   "cell_type": "markdown",
   "id": "2930c147ce9ccaf7",
   "metadata": {},
   "source": [
    "## 3) Prueba de los modulos \n",
    "Inicializar el Contexto de Kedro (recomendado). Si tus nodos dependen de datasets definidos en el catálogo de Kedro o de parámetros, es conveniente inicializar el contexto de Kedro para acceder al catálogo y a los parámetros.\n",
    "\n"
   ]
  },
  {
   "cell_type": "markdown",
   "id": "92d616e8f7266fc5",
   "metadata": {},
   "source": [
    "### 3.1) Inicializando le sesión de Kedro "
   ]
  },
  {
   "cell_type": "code",
   "execution_count": 3,
   "id": "843d02ef98dbbc66",
   "metadata": {
    "ExecuteTime": {
     "end_time": "2024-10-07T04:52:03.698230Z",
     "start_time": "2024-10-07T04:52:03.015691Z"
    }
   },
   "outputs": [
    {
     "data": {
      "text/html": [
       "<pre style=\"white-space:pre;overflow-x:auto;line-height:normal;font-family:Menlo,'DejaVu Sans Mono',consolas,'Courier New',monospace\"><span style=\"color: #7fbfbf; text-decoration-color: #7fbfbf\">[10/06/24 22:52:03] </span><span style=\"color: #000080; text-decoration-color: #000080\">INFO    </span> Using                                                                  <a href=\"file:///Users/orlandoandrade/miniconda3/envs/Data_Science/lib/python3.11/site-packages/kedro/framework/project/__init__.py\" target=\"_blank\"><span style=\"color: #7f7f7f; text-decoration-color: #7f7f7f\">__init__.py</span></a><span style=\"color: #7f7f7f; text-decoration-color: #7f7f7f\">:</span><a href=\"file:///Users/orlandoandrade/miniconda3/envs/Data_Science/lib/python3.11/site-packages/kedro/framework/project/__init__.py#249\" target=\"_blank\"><span style=\"color: #7f7f7f; text-decoration-color: #7f7f7f\">249</span></a>\n",
       "<span style=\"color: #7fbfbf; text-decoration-color: #7fbfbf\">                    </span>         <span style=\"color: #008000; text-decoration-color: #008000\">'/Users/orlandoandrade/miniconda3/envs/Data_Science/lib/python3.11/sit</span> <span style=\"color: #7f7f7f; text-decoration-color: #7f7f7f\">               </span>\n",
       "<span style=\"color: #7fbfbf; text-decoration-color: #7fbfbf\">                    </span>         <span style=\"color: #008000; text-decoration-color: #008000\">e-packages/kedro/framework/project/rich_logging.yml'</span> as logging        <span style=\"color: #7f7f7f; text-decoration-color: #7f7f7f\">               </span>\n",
       "<span style=\"color: #7fbfbf; text-decoration-color: #7fbfbf\">                    </span>         configuration.                                                         <span style=\"color: #7f7f7f; text-decoration-color: #7f7f7f\">               </span>\n",
       "</pre>\n"
      ],
      "text/plain": [
       "\u001b[2;36m[10/06/24 22:52:03]\u001b[0m\u001b[2;36m \u001b[0m\u001b[34mINFO    \u001b[0m Using                                                                  \u001b]8;id=337093;file:///Users/orlandoandrade/miniconda3/envs/Data_Science/lib/python3.11/site-packages/kedro/framework/project/__init__.py\u001b\\\u001b[2m__init__.py\u001b[0m\u001b]8;;\u001b\\\u001b[2m:\u001b[0m\u001b]8;id=927467;file:///Users/orlandoandrade/miniconda3/envs/Data_Science/lib/python3.11/site-packages/kedro/framework/project/__init__.py#249\u001b\\\u001b[2m249\u001b[0m\u001b]8;;\u001b\\\n",
       "\u001b[2;36m                    \u001b[0m         \u001b[32m'/Users/orlandoandrade/miniconda3/envs/Data_Science/lib/python3.11/sit\u001b[0m \u001b[2m               \u001b[0m\n",
       "\u001b[2;36m                    \u001b[0m         \u001b[32me-packages/kedro/framework/project/rich_logging.yml'\u001b[0m as logging        \u001b[2m               \u001b[0m\n",
       "\u001b[2;36m                    \u001b[0m         configuration.                                                         \u001b[2m               \u001b[0m\n"
      ]
     },
     "metadata": {},
     "output_type": "display_data"
    },
    {
     "name": "stdout",
     "output_type": "stream",
     "text": [
      "Directorio padre: /Users/orlandoandrade/Documents/Maestria en inteligencia artificial aplicada/Materias/3 trimestre/Repositorio/Repositorio grupal/machine-learning-operations/mlops\n"
     ]
    },
    {
     "data": {
      "text/html": [
       "<pre style=\"white-space:pre;overflow-x:auto;line-height:normal;font-family:Menlo,'DejaVu Sans Mono',consolas,'Courier New',monospace\"></pre>\n"
      ],
      "text/plain": []
     },
     "metadata": {},
     "output_type": "display_data"
    },
    {
     "data": {
      "text/plain": [
       "\n",
       "\u001b[1;35mProjectMetadata\u001b[0m\u001b[1m(\u001b[0m\n",
       "    \u001b[33mconfig_file\u001b[0m=\u001b[1;35mPosixPath\u001b[0m\u001b[1m(\u001b[0m\u001b[32m'/Users/orlandoandrade/Documents/Maestria en inteligencia artificial aplicada/Materias/3 trimestre/Repositorio/Repositorio grupal/machine-learning-operations/mlops/pyproject.toml'\u001b[0m\u001b[1m)\u001b[0m,\n",
       "    \u001b[33mpackage_name\u001b[0m=\u001b[32m'mlops'\u001b[0m,\n",
       "    \u001b[33mproject_name\u001b[0m=\u001b[32m'MLops'\u001b[0m,\n",
       "    \u001b[33mproject_path\u001b[0m=\u001b[1;35mPosixPath\u001b[0m\u001b[1m(\u001b[0m\u001b[32m'/Users/orlandoandrade/Documents/Maestria en inteligencia artificial aplicada/Materias/3 trimestre/Repositorio/Repositorio grupal/machine-learning-operations/mlops'\u001b[0m\u001b[1m)\u001b[0m,\n",
       "    \u001b[33msource_dir\u001b[0m=\u001b[1;35mPosixPath\u001b[0m\u001b[1m(\u001b[0m\u001b[32m'/Users/orlandoandrade/Documents/Maestria en inteligencia artificial aplicada/Materias/3 trimestre/Repositorio/Repositorio grupal/machine-learning-operations/mlops/src'\u001b[0m\u001b[1m)\u001b[0m,\n",
       "    \u001b[33mkedro_init_version\u001b[0m=\u001b[32m'0.19.8'\u001b[0m,\n",
       "    \u001b[33mtools\u001b[0m=\u001b[1m[\u001b[0m\u001b[32m'Linting'\u001b[0m, \u001b[32m'Testing'\u001b[0m, \u001b[32m'Custom Logging'\u001b[0m, \u001b[32m'Documentation'\u001b[0m, \u001b[32m'Data Structure'\u001b[0m, \u001b[32m'Kedro Viz'\u001b[0m\u001b[1m]\u001b[0m,\n",
       "    \u001b[33mexample_pipeline\u001b[0m=\u001b[32m'False'\u001b[0m\n",
       "\u001b[1m)\u001b[0m"
      ]
     },
     "execution_count": 3,
     "metadata": {},
     "output_type": "execute_result"
    }
   ],
   "source": [
    "import os\n",
    "from kedro.framework.session import KedroSession\n",
    "from kedro.framework.startup import bootstrap_project\n",
    "\n",
    "# Getting the root path \n",
    "path = os.getcwd()  # Obtiene el directorio actual\n",
    "root_path = os.path.dirname(path)  # Retrocede una carpeta, tengo que darle la dirección raiz del proeycto de Kedro\n",
    "print(f\"Directorio padre: {root_path}\") \n",
    "\n",
    "\n",
    "bootstrap_project(project_path=root_path) # Como se puede observar en el output se muestra la configuracion que le dí al proyecto"
   ]
  },
  {
   "cell_type": "code",
   "execution_count": 4,
   "id": "e63ddcc14e8a4354",
   "metadata": {
    "ExecuteTime": {
     "end_time": "2024-10-07T04:52:04.744753Z",
     "start_time": "2024-10-07T04:52:04.609545Z"
    }
   },
   "outputs": [],
   "source": [
    "# Create a Kedro Session and Load the Context\n",
    "with KedroSession.create(project_path=root_path) as session:\n",
    "    context = session.load_context()"
   ]
  },
  {
   "cell_type": "markdown",
   "id": "e8fabb66defa1c03",
   "metadata": {},
   "source": [
    "### 3.2) Importando catalogo y sets de datos declarados "
   ]
  },
  {
   "cell_type": "code",
   "execution_count": 5,
   "id": "8aaa58d998db874",
   "metadata": {
    "ExecuteTime": {
     "end_time": "2024-10-07T04:52:06.194058Z",
     "start_time": "2024-10-07T04:52:05.864118Z"
    }
   },
   "outputs": [
    {
     "data": {
      "text/html": [
       "<pre style=\"white-space:pre;overflow-x:auto;line-height:normal;font-family:Menlo,'DejaVu Sans Mono',consolas,'Courier New',monospace\"><span style=\"color: #7fbfbf; text-decoration-color: #7fbfbf\">[10/06/24 22:52:05] </span><span style=\"color: #000080; text-decoration-color: #000080\">INFO    </span> Kedro is sending anonymous usage data with the sole purpose of improving <a href=\"file:///Users/orlandoandrade/miniconda3/envs/Data_Science/lib/python3.11/site-packages/kedro_telemetry/plugin.py\" target=\"_blank\"><span style=\"color: #7f7f7f; text-decoration-color: #7f7f7f\">plugin.py</span></a><span style=\"color: #7f7f7f; text-decoration-color: #7f7f7f\">:</span><a href=\"file:///Users/orlandoandrade/miniconda3/envs/Data_Science/lib/python3.11/site-packages/kedro_telemetry/plugin.py#233\" target=\"_blank\"><span style=\"color: #7f7f7f; text-decoration-color: #7f7f7f\">233</span></a>\n",
       "<span style=\"color: #7fbfbf; text-decoration-color: #7fbfbf\">                    </span>         the product. No personal data or IP addresses are stored on our side. If <span style=\"color: #7f7f7f; text-decoration-color: #7f7f7f\">             </span>\n",
       "<span style=\"color: #7fbfbf; text-decoration-color: #7fbfbf\">                    </span>         you want to opt out, set the `KEDRO_DISABLE_TELEMETRY` or `DO_NOT_TRACK` <span style=\"color: #7f7f7f; text-decoration-color: #7f7f7f\">             </span>\n",
       "<span style=\"color: #7fbfbf; text-decoration-color: #7fbfbf\">                    </span>         environment variables, or create a `.telemetry` file in the current      <span style=\"color: #7f7f7f; text-decoration-color: #7f7f7f\">             </span>\n",
       "<span style=\"color: #7fbfbf; text-decoration-color: #7fbfbf\">                    </span>         working directory with the contents `consent: false`. Read more at       <span style=\"color: #7f7f7f; text-decoration-color: #7f7f7f\">             </span>\n",
       "<span style=\"color: #7fbfbf; text-decoration-color: #7fbfbf\">                    </span>         <span style=\"color: #0000ff; text-decoration-color: #0000ff; text-decoration: underline\">https://docs.kedro.org/en/stable/configuration/telemetry.html</span>            <span style=\"color: #7f7f7f; text-decoration-color: #7f7f7f\">             </span>\n",
       "</pre>\n"
      ],
      "text/plain": [
       "\u001b[2;36m[10/06/24 22:52:05]\u001b[0m\u001b[2;36m \u001b[0m\u001b[34mINFO    \u001b[0m Kedro is sending anonymous usage data with the sole purpose of improving \u001b]8;id=159599;file:///Users/orlandoandrade/miniconda3/envs/Data_Science/lib/python3.11/site-packages/kedro_telemetry/plugin.py\u001b\\\u001b[2mplugin.py\u001b[0m\u001b]8;;\u001b\\\u001b[2m:\u001b[0m\u001b]8;id=324285;file:///Users/orlandoandrade/miniconda3/envs/Data_Science/lib/python3.11/site-packages/kedro_telemetry/plugin.py#233\u001b\\\u001b[2m233\u001b[0m\u001b]8;;\u001b\\\n",
       "\u001b[2;36m                    \u001b[0m         the product. No personal data or IP addresses are stored on our side. If \u001b[2m             \u001b[0m\n",
       "\u001b[2;36m                    \u001b[0m         you want to opt out, set the `KEDRO_DISABLE_TELEMETRY` or `DO_NOT_TRACK` \u001b[2m             \u001b[0m\n",
       "\u001b[2;36m                    \u001b[0m         environment variables, or create a `.telemetry` file in the current      \u001b[2m             \u001b[0m\n",
       "\u001b[2;36m                    \u001b[0m         working directory with the contents `consent: false`. Read more at       \u001b[2m             \u001b[0m\n",
       "\u001b[2;36m                    \u001b[0m         \u001b[4;94mhttps://docs.kedro.org/en/stable/configuration/telemetry.html\u001b[0m            \u001b[2m             \u001b[0m\n"
      ]
     },
     "metadata": {},
     "output_type": "display_data"
    },
    {
     "data": {
      "text/html": [
       "<pre style=\"white-space:pre;overflow-x:auto;line-height:normal;font-family:Menlo,'DejaVu Sans Mono',consolas,'Courier New',monospace\"></pre>\n"
      ],
      "text/plain": []
     },
     "metadata": {},
     "output_type": "display_data"
    },
    {
     "data": {
      "text/plain": [
       "\n",
       "\u001b[1m{\u001b[0m\u001b[32m'raw_data'\u001b[0m: \u001b[32m\"kedro_datasets.pandas.excel_dataset.ExcelDataset\u001b[0m\u001b[32m(\u001b[0m\u001b[32mfilepath\u001b[0m\u001b[32m=\u001b[0m\u001b[32mPurePosixPath\u001b[0m\u001b[32m(\u001b[0m\u001b[32m'/Users/orlandoandrade/Documents/Maestria \"\u001b[0m\n",
       "             \u001b[32m'en inteligencia artificial aplicada/Materias/3 '\u001b[0m\n",
       "             \u001b[32m'trimestre/Repositorio/Repositorio '\u001b[0m\n",
       "             \u001b[32m\"grupal/machine-learning-operations/mlops/data/01_raw/ENB2012_data.xlsx'\u001b[0m\u001b[32m)\u001b[0m\u001b[32m, \"\u001b[0m\n",
       "             \u001b[32m\"\u001b[0m\u001b[32mprotocol\u001b[0m\u001b[32m='file', \u001b[0m\u001b[32mload_args\u001b[0m\u001b[32m=\u001b[0m\u001b[32m{\u001b[0m\u001b[32m'engine': 'openpyxl'\u001b[0m\u001b[32m}\u001b[0m\u001b[32m, \"\u001b[0m\n",
       "             \u001b[32m\"\u001b[0m\u001b[32msave_args\u001b[0m\u001b[32m=\u001b[0m\u001b[32m{\u001b[0m\u001b[32m'index': False\u001b[0m\u001b[32m}\u001b[0m\u001b[32m, \u001b[0m\u001b[32mwriter_args\u001b[0m\u001b[32m=\u001b[0m\u001b[32m{\u001b[0m\u001b[32m'engine': 'openpyxl'\u001b[0m\u001b[32m}\u001b[0m\u001b[32m)\u001b[0m\u001b[32m\"\u001b[0m,\n",
       " \u001b[32m'parameters'\u001b[0m: \u001b[32m\"kedro.io.memory_dataset.MemoryDataset\u001b[0m\u001b[32m(\u001b[0m\u001b[32mdata\u001b[0m\u001b[32m='\u001b[0m\u001b[32m<\u001b[0m\u001b[32mdict\u001b[0m\u001b[32m>'\u001b[0m\u001b[32m)\u001b[0m\u001b[32m\"\u001b[0m\u001b[39m,\u001b[0m\n",
       "\u001b[39m \u001b[0m\u001b[32m'params:eda_params'\u001b[0m\u001b[39m: \u001b[0m\u001b[32m\"kedro.io.memory_dataset.MemoryDataset\u001b[0m\u001b[32m(\u001b[0m\u001b[32mdata\u001b[0m\u001b[32m='<dict>'\u001b[0m\u001b[32m)\u001b[0m\u001b[32m\"\u001b[0m\u001b[39m,\u001b[0m\n",
       "\u001b[39m \u001b[0m\u001b[32m'params:eda_params.current_columns'\u001b[0m\u001b[39m: \u001b[0m\u001b[32m\"kedro.io.memory_dataset.MemoryDataset\u001b[0m\u001b[32m(\u001b[0m\u001b[32mdata\u001b[0m\u001b[32m='<list>'\u001b[0m\u001b[32m)\u001b[0m\u001b[32m\"\u001b[0m\u001b[39m,\u001b[0m\n",
       "\u001b[39m \u001b[0m\u001b[32m'params:eda_params.target_columns'\u001b[0m\u001b[39m: \u001b[0m\u001b[32m\"kedro.io.memory_dataset.MemoryDataset\u001b[0m\u001b[32m(\u001b[0m\u001b[32mdata\u001b[0m\u001b[32m='<list\u001b[0m\u001b[32m>\u001b[0m\u001b[32m'\u001b[0m\u001b[32m)\u001b[0m\u001b[32m\"\u001b[0m\u001b[1m}\u001b[0m"
      ]
     },
     "execution_count": 5,
     "metadata": {},
     "output_type": "execute_result"
    }
   ],
   "source": [
    "catalog = context.catalog\n",
    "catalog "
   ]
  },
  {
   "cell_type": "code",
   "execution_count": 6,
   "id": "1692f4810999080b",
   "metadata": {
    "ExecuteTime": {
     "end_time": "2024-10-07T04:52:07.776815Z",
     "start_time": "2024-10-07T04:52:07.459674Z"
    }
   },
   "outputs": [
    {
     "data": {
      "text/html": [
       "<pre style=\"white-space:pre;overflow-x:auto;line-height:normal;font-family:Menlo,'DejaVu Sans Mono',consolas,'Courier New',monospace\"><span style=\"color: #7fbfbf; text-decoration-color: #7fbfbf\">[10/06/24 22:52:07] </span><span style=\"color: #000080; text-decoration-color: #000080\">INFO    </span> Loading data from <span style=\"color: #ff8700; text-decoration-color: #ff8700\">raw_data</span> <span style=\"font-weight: bold\">(</span>ExcelDataset<span style=\"font-weight: bold\">)</span><span style=\"color: #808000; text-decoration-color: #808000\">...</span>                       <a href=\"file:///Users/orlandoandrade/miniconda3/envs/Data_Science/lib/python3.11/site-packages/kedro/io/data_catalog.py\" target=\"_blank\"><span style=\"color: #7f7f7f; text-decoration-color: #7f7f7f\">data_catalog.py</span></a><span style=\"color: #7f7f7f; text-decoration-color: #7f7f7f\">:</span><a href=\"file:///Users/orlandoandrade/miniconda3/envs/Data_Science/lib/python3.11/site-packages/kedro/io/data_catalog.py#539\" target=\"_blank\"><span style=\"color: #7f7f7f; text-decoration-color: #7f7f7f\">539</span></a>\n",
       "</pre>\n"
      ],
      "text/plain": [
       "\u001b[2;36m[10/06/24 22:52:07]\u001b[0m\u001b[2;36m \u001b[0m\u001b[34mINFO    \u001b[0m Loading data from \u001b[38;5;208mraw_data\u001b[0m \u001b[1m(\u001b[0mExcelDataset\u001b[1m)\u001b[0m\u001b[33m...\u001b[0m                       \u001b]8;id=816965;file:///Users/orlandoandrade/miniconda3/envs/Data_Science/lib/python3.11/site-packages/kedro/io/data_catalog.py\u001b\\\u001b[2mdata_catalog.py\u001b[0m\u001b]8;;\u001b\\\u001b[2m:\u001b[0m\u001b]8;id=437316;file:///Users/orlandoandrade/miniconda3/envs/Data_Science/lib/python3.11/site-packages/kedro/io/data_catalog.py#539\u001b\\\u001b[2m539\u001b[0m\u001b]8;;\u001b\\\n"
      ]
     },
     "metadata": {},
     "output_type": "display_data"
    },
    {
     "data": {
      "text/html": [
       "<pre style=\"white-space:pre;overflow-x:auto;line-height:normal;font-family:Menlo,'DejaVu Sans Mono',consolas,'Courier New',monospace\"></pre>\n"
      ],
      "text/plain": []
     },
     "metadata": {},
     "output_type": "display_data"
    },
    {
     "data": {
      "text/html": [
       "<div>\n",
       "<style scoped>\n",
       "    .dataframe tbody tr th:only-of-type {\n",
       "        vertical-align: middle;\n",
       "    }\n",
       "\n",
       "    .dataframe tbody tr th {\n",
       "        vertical-align: top;\n",
       "    }\n",
       "\n",
       "    .dataframe thead th {\n",
       "        text-align: right;\n",
       "    }\n",
       "</style>\n",
       "<table border=\"1\" class=\"dataframe\">\n",
       "  <thead>\n",
       "    <tr style=\"text-align: right;\">\n",
       "      <th></th>\n",
       "      <th>X1</th>\n",
       "      <th>X2</th>\n",
       "      <th>X3</th>\n",
       "      <th>X4</th>\n",
       "      <th>X5</th>\n",
       "      <th>X6</th>\n",
       "      <th>X7</th>\n",
       "      <th>X8</th>\n",
       "      <th>Y1</th>\n",
       "      <th>Y2</th>\n",
       "    </tr>\n",
       "  </thead>\n",
       "  <tbody>\n",
       "    <tr>\n",
       "      <th>0</th>\n",
       "      <td>0.98</td>\n",
       "      <td>514.5</td>\n",
       "      <td>294.0</td>\n",
       "      <td>110.25</td>\n",
       "      <td>7.0</td>\n",
       "      <td>2</td>\n",
       "      <td>0.0</td>\n",
       "      <td>0</td>\n",
       "      <td>15.55</td>\n",
       "      <td>21.33</td>\n",
       "    </tr>\n",
       "    <tr>\n",
       "      <th>1</th>\n",
       "      <td>0.98</td>\n",
       "      <td>514.5</td>\n",
       "      <td>294.0</td>\n",
       "      <td>110.25</td>\n",
       "      <td>7.0</td>\n",
       "      <td>3</td>\n",
       "      <td>0.0</td>\n",
       "      <td>0</td>\n",
       "      <td>15.55</td>\n",
       "      <td>21.33</td>\n",
       "    </tr>\n",
       "    <tr>\n",
       "      <th>2</th>\n",
       "      <td>0.98</td>\n",
       "      <td>514.5</td>\n",
       "      <td>294.0</td>\n",
       "      <td>110.25</td>\n",
       "      <td>7.0</td>\n",
       "      <td>4</td>\n",
       "      <td>0.0</td>\n",
       "      <td>0</td>\n",
       "      <td>15.55</td>\n",
       "      <td>21.33</td>\n",
       "    </tr>\n",
       "    <tr>\n",
       "      <th>3</th>\n",
       "      <td>0.98</td>\n",
       "      <td>514.5</td>\n",
       "      <td>294.0</td>\n",
       "      <td>110.25</td>\n",
       "      <td>7.0</td>\n",
       "      <td>5</td>\n",
       "      <td>0.0</td>\n",
       "      <td>0</td>\n",
       "      <td>15.55</td>\n",
       "      <td>21.33</td>\n",
       "    </tr>\n",
       "    <tr>\n",
       "      <th>4</th>\n",
       "      <td>0.90</td>\n",
       "      <td>563.5</td>\n",
       "      <td>318.5</td>\n",
       "      <td>122.50</td>\n",
       "      <td>7.0</td>\n",
       "      <td>2</td>\n",
       "      <td>0.0</td>\n",
       "      <td>0</td>\n",
       "      <td>20.84</td>\n",
       "      <td>28.28</td>\n",
       "    </tr>\n",
       "  </tbody>\n",
       "</table>\n",
       "</div>"
      ],
      "text/plain": [
       "\n",
       "     X1     X2     X3      X4   X5  X6   X7  X8     Y1     Y2\n",
       "\u001b[1;36m0\u001b[0m  \u001b[1;36m0.98\u001b[0m  \u001b[1;36m514.5\u001b[0m  \u001b[1;36m294.0\u001b[0m  \u001b[1;36m110.25\u001b[0m  \u001b[1;36m7.0\u001b[0m   \u001b[1;36m2\u001b[0m  \u001b[1;36m0.0\u001b[0m   \u001b[1;36m0\u001b[0m  \u001b[1;36m15.55\u001b[0m  \u001b[1;36m21.33\u001b[0m\n",
       "\u001b[1;36m1\u001b[0m  \u001b[1;36m0.98\u001b[0m  \u001b[1;36m514.5\u001b[0m  \u001b[1;36m294.0\u001b[0m  \u001b[1;36m110.25\u001b[0m  \u001b[1;36m7.0\u001b[0m   \u001b[1;36m3\u001b[0m  \u001b[1;36m0.0\u001b[0m   \u001b[1;36m0\u001b[0m  \u001b[1;36m15.55\u001b[0m  \u001b[1;36m21.33\u001b[0m\n",
       "\u001b[1;36m2\u001b[0m  \u001b[1;36m0.98\u001b[0m  \u001b[1;36m514.5\u001b[0m  \u001b[1;36m294.0\u001b[0m  \u001b[1;36m110.25\u001b[0m  \u001b[1;36m7.0\u001b[0m   \u001b[1;36m4\u001b[0m  \u001b[1;36m0.0\u001b[0m   \u001b[1;36m0\u001b[0m  \u001b[1;36m15.55\u001b[0m  \u001b[1;36m21.33\u001b[0m\n",
       "\u001b[1;36m3\u001b[0m  \u001b[1;36m0.98\u001b[0m  \u001b[1;36m514.5\u001b[0m  \u001b[1;36m294.0\u001b[0m  \u001b[1;36m110.25\u001b[0m  \u001b[1;36m7.0\u001b[0m   \u001b[1;36m5\u001b[0m  \u001b[1;36m0.0\u001b[0m   \u001b[1;36m0\u001b[0m  \u001b[1;36m15.55\u001b[0m  \u001b[1;36m21.33\u001b[0m\n",
       "\u001b[1;36m4\u001b[0m  \u001b[1;36m0.90\u001b[0m  \u001b[1;36m563.5\u001b[0m  \u001b[1;36m318.5\u001b[0m  \u001b[1;36m122.50\u001b[0m  \u001b[1;36m7.0\u001b[0m   \u001b[1;36m2\u001b[0m  \u001b[1;36m0.0\u001b[0m   \u001b[1;36m0\u001b[0m  \u001b[1;36m20.84\u001b[0m  \u001b[1;36m28.28\u001b[0m"
      ]
     },
     "execution_count": 6,
     "metadata": {},
     "output_type": "execute_result"
    }
   ],
   "source": [
    "dataset =  catalog.load(\"raw_data\") # Cargas el nombre del set de datos declarado en el catalogo \n",
    "dataset.head(n=5)"
   ]
  },
  {
   "cell_type": "markdown",
   "id": "5ca3aea22bc279a0",
   "metadata": {},
   "source": [
    "### 3.3) Uso de la función declarada (módulo de la libreria o nodo de Kedro)"
   ]
  },
  {
   "cell_type": "code",
   "execution_count": 7,
   "id": "6f5e0f90a429340a",
   "metadata": {
    "ExecuteTime": {
     "end_time": "2024-10-07T01:14:58.644924Z",
     "start_time": "2024-10-07T01:14:58.147835Z"
    }
   },
   "outputs": [],
   "source": [
    "boxplot(dataset=dataset, columns =[\"X1\", \"X2\"]) # Vease como puedo utiliar la función declarada , importandola como un modulo de la libreria creada"
   ]
  }
 ],
 "metadata": {
  "environment": {
   "kernel": "conda-base-py",
   "name": "workbench-notebooks.m125",
   "type": "gcloud",
   "uri": "us-docker.pkg.dev/deeplearning-platform-release/gcr.io/workbench-notebooks:m125"
  },
  "kernelspec": {
   "display_name": "Python 3 (ipykernel) (Local)",
   "language": "python",
   "name": "conda-base-py"
  },
  "language_info": {
   "codemirror_mode": {
    "name": "ipython",
    "version": 3
   },
   "file_extension": ".py",
   "mimetype": "text/x-python",
   "name": "python",
   "nbconvert_exporter": "python",
   "pygments_lexer": "ipython3",
   "version": "3.10.15"
  }
 },
 "nbformat": 4,
 "nbformat_minor": 5
}
