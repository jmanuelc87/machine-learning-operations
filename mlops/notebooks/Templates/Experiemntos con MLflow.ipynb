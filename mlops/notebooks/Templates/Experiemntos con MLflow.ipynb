{
 "cells": [
  {
   "cell_type": "markdown",
   "id": "c8d1887f-6ead-4b46-b66a-a332381a1afe",
   "metadata": {
    "tags": []
   },
   "source": [
    "# Experimentos con MLFlow\n",
    "En este notebook se explicará como hacer un experimento, como asociarle un responsable al experimento, asi como customizar la direccion de exportación del experimento. "
   ]
  },
  {
   "cell_type": "markdown",
   "id": "f1d019b4-f1a4-4485-ae21-07a2d29ed7be",
   "metadata": {},
   "source": [
    "**IMPORTACION DE LIBRERIAS**"
   ]
  },
  {
   "cell_type": "code",
   "execution_count": null,
   "id": "e364441c-86ac-45a4-b989-3831e68b440f",
   "metadata": {},
   "outputs": [],
   "source": [
    "import mlflow\n",
    "import mlflow.sklearn"
   ]
  },
  {
   "cell_type": "markdown",
   "id": "2c7c4173-cbc4-4a53-9474-f08b7b2870bc",
   "metadata": {},
   "source": [
    "**CONFIGURACION DEL EXPERIEMNTO**"
   ]
  },
  {
   "cell_type": "code",
   "execution_count": 1,
   "id": "25c67275-0a0a-459d-86bc-27c58c8f174a",
   "metadata": {
    "tags": []
   },
   "outputs": [
    {
     "name": "stderr",
     "output_type": "stream",
     "text": [
      "2024/10/16 23:40:20 INFO mlflow.tracking.fluent: Experiment with name 'Energy efficent model' does not exist. Creating a new experiment.\n"
     ]
    },
    {
     "data": {
      "text/plain": [
       "<Experiment: artifact_location='file:///home/jupyter/orlando/machine-learning-operations/mlops/notebooks/Pruebas/mlruns/252003616879863635', creation_time=1729122020848, experiment_id='252003616879863635', last_update_time=1729122020848, lifecycle_stage='active', name='Energy efficent model', tags={}>"
      ]
     },
     "execution_count": 1,
     "metadata": {},
     "output_type": "execute_result"
    }
   ],
   "source": [
    "# Set the experiment name (if it doesn’t exist, MLflow will create it)\n",
    "mlflow.set_experiment(\"Energy efficent model\")\n",
    "\n",
    "# Agregando tags al experimento, como el usuario \n",
    "mlflow.set_tag(\"user\", \"orlando.barraza\")\n",
    "\n",
    "# Personalización del lugar de almacenameinto \n",
    "mlflow.set_tracking_uri(\"gs://your-bucket-name/mlflow\") # Es posible indicarle que el almacenameinto se haga en un bucket. \n",
    "#mlflow.set_tracking_uri(\"file:///path/to/mlruns\") # o dentro de otra direccion en la maquina actual. "
   ]
  },
  {
   "cell_type": "code",
   "execution_count": null,
   "id": "caee6c6c-9d5f-42b4-9616-5add050bf535",
   "metadata": {},
   "outputs": [],
   "source": []
  }
 ],
 "metadata": {
  "environment": {
   "kernel": "conda-base-py",
   "name": "workbench-notebooks.m125",
   "type": "gcloud",
   "uri": "us-docker.pkg.dev/deeplearning-platform-release/gcr.io/workbench-notebooks:m125"
  },
  "kernelspec": {
   "display_name": "Python 3 (ipykernel) (Local)",
   "language": "python",
   "name": "conda-base-py"
  },
  "language_info": {
   "codemirror_mode": {
    "name": "ipython",
    "version": 3
   },
   "file_extension": ".py",
   "mimetype": "text/x-python",
   "name": "python",
   "nbconvert_exporter": "python",
   "pygments_lexer": "ipython3",
   "version": "3.10.15"
  }
 },
 "nbformat": 4,
 "nbformat_minor": 5
}
