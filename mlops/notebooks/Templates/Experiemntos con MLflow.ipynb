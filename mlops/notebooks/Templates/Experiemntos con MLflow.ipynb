{
 "cells": [
  {
   "cell_type": "markdown",
   "id": "c8d1887f-6ead-4b46-b66a-a332381a1afe",
   "metadata": {
    "tags": []
   },
   "source": [
    "# Experimentos con MLFlow\n",
    "En este notebook se explicará como hacer un experimento, como asociarle un responsable al experimento, asi como customizar la direccion de exportación del experimento. "
   ]
  },
  {
   "cell_type": "markdown",
   "id": "f1d019b4-f1a4-4485-ae21-07a2d29ed7be",
   "metadata": {},
   "source": [
    "**IMPORTACION DE LIBRERIAS**"
   ]
  },
  {
   "cell_type": "code",
   "execution_count": 1,
   "id": "e364441c-86ac-45a4-b989-3831e68b440f",
   "metadata": {},
   "outputs": [],
   "source": [
    "import mlflow\n",
    "import numpy as np\n",
    "from sklearn.linear_model import LinearRegression"
   ]
  },
  {
   "cell_type": "markdown",
   "id": "8d7244bd-61ee-4f61-8e99-102189a1a447",
   "metadata": {},
   "source": [
    "**CONFIGURACION EN TERMINAL**"
   ]
  },
  {
   "cell_type": "markdown",
   "id": "abecdb49-b8a2-4385-a64e-328497235a6e",
   "metadata": {
    "tags": []
   },
   "source": [
    "### **MLflow Server Command:**\n",
    "\n",
    "```bash\n",
    "mlflow server \\\n",
    "  --backend-store-uri sqlite:////home/jupyter/mlruns.db \\\n",
    "  --default-artifact-root gs://mlflow_mlops \\\n",
    "  -h 0.0.0.0 -p 5000\n",
    "```\n",
    "\n",
    "### **Explanation:**\n",
    "\n",
    "1. **`--backend-store-uri sqlite:////home/jupyter/mlruns.db`**:\n",
    "   - This stores all experiment metadata (parameters, metrics, tags, etc.) in a **SQLite database file** at `/home/jupyter/mlruns.db`.\n",
    "   - Note the **four slashes (`////`)** after `sqlite:`:\n",
    "     - The **first three slashes** denote the URI scheme for an absolute path.\n",
    "     - The **fourth slash** begins the absolute path to the `mlruns.db` file.\n",
    "\n",
    "2. **`--default-artifact-root gs://mlflow_mlops`**:\n",
    "   - This sets the **default location** to store artifacts (such as models and logs) in the **Google Cloud Storage bucket** `gs://mlflow_mlops`.\n",
    "\n",
    "3. **`-h 0.0.0.0`**: \n",
    "   - Makes the MLflow UI accessible from any IP address (useful in VM or cloud environments).\n",
    "\n",
    "4. **`-p 5000`**:\n",
    "   - Runs the MLflow UI on **port 5000**.\n",
    "\n",
    "---\n",
    "\n"
   ]
  },
  {
   "cell_type": "markdown",
   "id": "2c7c4173-cbc4-4a53-9474-f08b7b2870bc",
   "metadata": {},
   "source": [
    "**CONFIGURACION DEL EXPERIEMNTO**"
   ]
  },
  {
   "cell_type": "code",
   "execution_count": null,
   "id": "d0469e76-e051-45ca-bf40-488e723942ae",
   "metadata": {},
   "outputs": [],
   "source": [
    "import mlflow\n",
    "\n",
    "# You need to set the tracking URI before setting the experiment. This ensures that any experiments or runs are created on the remote server you're pointing to.\n",
    "# Set the tracking URI first\n",
    "mlflow.set_tracking_uri(\"http://34.145.94.255:5000/\")\n",
    "\n",
    "# Now set the experiment name (creates it on the remote server if it doesn’t exist)\n",
    "mlflow.set_experiment(\"Energy Efficient\")\n",
    "\n",
    "# Add tags, such as the user\n",
    "mlflow.set_tag(\"user\", \"orlando.barraza\")"
   ]
  },
  {
   "cell_type": "markdown",
   "id": "c5610666-b91b-4c9d-8b84-d6ca1250fc11",
   "metadata": {},
   "source": [
    "**EJECUCION DE UN EXPERIMENTO PRUEBA**"
   ]
  },
  {
   "cell_type": "code",
   "execution_count": 8,
   "id": "5b376231-58fc-4ddd-8c4a-ba615ba36de6",
   "metadata": {},
   "outputs": [
    {
     "name": "stderr",
     "output_type": "stream",
     "text": [
      "2024/10/17 14:09:12 INFO mlflow.tracking.fluent: Experiment with name 'Energy Efficient' does not exist. Creating a new experiment.\n",
      "2024/10/17 14:09:12 INFO mlflow.tracking._tracking_service.client: 🏃 View run rare-fly-846 at: http://34.145.94.255:5000/#/experiments/2/runs/c5591c5165cf4ac7b25c1f24589dc465.\n",
      "2024/10/17 14:09:12 INFO mlflow.tracking._tracking_service.client: 🧪 View experiment at: http://34.145.94.255:5000/#/experiments/2.\n",
      "2024/10/17 14:09:17 WARNING mlflow.models.model: Model logged without a signature and input example. Please set `input_example` parameter when logging the model to auto infer the model signature.\n",
      "2024/10/17 14:09:17 INFO mlflow.tracking._tracking_service.client: 🏃 View run judicious-crab-287 at: http://34.145.94.255:5000/#/experiments/2/runs/d675ef5717dd41faaba588241f11241a.\n",
      "2024/10/17 14:09:17 INFO mlflow.tracking._tracking_service.client: 🧪 View experiment at: http://34.145.94.255:5000/#/experiments/2.\n"
     ]
    },
    {
     "name": "stdout",
     "output_type": "stream",
     "text": [
      "Run ID: d675ef5717dd41faaba588241f11241a\n"
     ]
    }
   ],
   "source": [
    "# End any active run\n",
    "if mlflow.active_run() is not None:\n",
    "    mlflow.end_run()\n",
    "\n",
    "# Start a new experiment run\n",
    "with mlflow.start_run() as run:\n",
    "    # Training a simple Linear Regression model\n",
    "    from sklearn.linear_model import LinearRegression\n",
    "    import numpy as np\n",
    "\n",
    "    X = np.array([[1], [2], [3], [4], [5]])\n",
    "    y = np.array([3, 6, 9, 12, 15])\n",
    "    model = LinearRegression().fit(X, y)\n",
    "\n",
    "    # Log the trained model\n",
    "    mlflow.sklearn.log_model(model, \"linear_model\")\n",
    "\n",
    "    # Log parameters and metrics\n",
    "    mlflow.log_param(\"alpha\", 0.5)\n",
    "    mlflow.log_metric(\"rmse\", 1.23)\n",
    "\n",
    "    # Print the run ID\n",
    "    print(f\"Run ID: {run.info.run_id}\")\n"
   ]
  },
  {
   "cell_type": "code",
   "execution_count": null,
   "id": "de9a3147-1332-47f9-aa30-b434d5143dfd",
   "metadata": {},
   "outputs": [],
   "source": []
  }
 ],
 "metadata": {
  "environment": {
   "kernel": "conda-base-py",
   "name": "workbench-notebooks.m125",
   "type": "gcloud",
   "uri": "us-docker.pkg.dev/deeplearning-platform-release/gcr.io/workbench-notebooks:m125"
  },
  "kernelspec": {
   "display_name": "Python 3 (ipykernel) (Local)",
   "language": "python",
   "name": "conda-base-py"
  },
  "language_info": {
   "codemirror_mode": {
    "name": "ipython",
    "version": 3
   },
   "file_extension": ".py",
   "mimetype": "text/x-python",
   "name": "python",
   "nbconvert_exporter": "python",
   "pygments_lexer": "ipython3",
   "version": "3.10.15"
  }
 },
 "nbformat": 4,
 "nbformat_minor": 5
}
