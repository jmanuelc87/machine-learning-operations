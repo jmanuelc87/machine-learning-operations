{
 "cells": [
  {
   "cell_type": "markdown",
   "id": "c8d1887f-6ead-4b46-b66a-a332381a1afe",
   "metadata": {
    "tags": []
   },
   "source": [
    "# Experimentos con MLFlow\n",
    "En este notebook se explicará como hacer un experimento, como asociarle un responsable al experimento, asi como customizar la direccion de exportación del experimento. "
   ]
  },
  {
   "cell_type": "markdown",
   "id": "f1d019b4-f1a4-4485-ae21-07a2d29ed7be",
   "metadata": {},
   "source": [
    "**IMPORTACION DE LIBRERIAS**"
   ]
  },
  {
   "cell_type": "code",
   "execution_count": 6,
   "id": "e364441c-86ac-45a4-b989-3831e68b440f",
   "metadata": {},
   "outputs": [],
   "source": [
    "import mlflow\n",
    "import numpy as np\n",
    "from sklearn.linear_model import LinearRegression"
   ]
  },
  {
   "cell_type": "markdown",
   "id": "2c7c4173-cbc4-4a53-9474-f08b7b2870bc",
   "metadata": {},
   "source": [
    "**CONFIGURACION DEL EXPERIEMNTO**"
   ]
  },
  {
   "cell_type": "code",
   "execution_count": 7,
   "id": "ac16bbae-cbaa-44b9-bfec-e8f00612807d",
   "metadata": {
    "tags": []
   },
   "outputs": [
    {
     "ename": "UnsupportedModelRegistryStoreURIException",
     "evalue": " Model registry functionality is unavailable; got unsupported URI 'gs://mlflow_mlops' for model registry data storage. Supported URI schemes are: ['', 'file', 'databricks', 'databricks-uc', 'uc', 'http', 'https', 'postgresql', 'mysql', 'sqlite', 'mssql']. See https://www.mlflow.org/docs/latest/tracking.html#storage for how to run an MLflow server against one of the supported backend storage locations.",
     "output_type": "error",
     "traceback": [
      "\u001b[0;31m---------------------------------------------------------------------------\u001b[0m",
      "\u001b[0;31mKeyError\u001b[0m                                  Traceback (most recent call last)",
      "File \u001b[0;32m/opt/conda/lib/python3.10/site-packages/mlflow/tracking/registry.py:82\u001b[0m, in \u001b[0;36mStoreRegistry.get_store_builder\u001b[0;34m(self, store_uri)\u001b[0m\n\u001b[1;32m     81\u001b[0m \u001b[38;5;28;01mtry\u001b[39;00m:\n\u001b[0;32m---> 82\u001b[0m     store_builder \u001b[38;5;241m=\u001b[39m \u001b[38;5;28;43mself\u001b[39;49m\u001b[38;5;241;43m.\u001b[39;49m\u001b[43m_registry\u001b[49m\u001b[43m[\u001b[49m\u001b[43mscheme\u001b[49m\u001b[43m]\u001b[49m\n\u001b[1;32m     83\u001b[0m \u001b[38;5;28;01mexcept\u001b[39;00m \u001b[38;5;167;01mKeyError\u001b[39;00m:\n",
      "\u001b[0;31mKeyError\u001b[0m: 'gs'",
      "\nDuring handling of the above exception, another exception occurred:\n",
      "\u001b[0;31mUnsupportedModelRegistryStoreURIException\u001b[0m Traceback (most recent call last)",
      "Cell \u001b[0;32mIn[7], line 6\u001b[0m\n\u001b[1;32m      3\u001b[0m     mlflow\u001b[38;5;241m.\u001b[39mend_run()\n\u001b[1;32m      5\u001b[0m \u001b[38;5;66;03m# Set the experiment name (creates it if it doesn’t exist)\u001b[39;00m\n\u001b[0;32m----> 6\u001b[0m \u001b[43mmlflow\u001b[49m\u001b[38;5;241;43m.\u001b[39;49m\u001b[43mset_experiment\u001b[49m\u001b[43m(\u001b[49m\u001b[38;5;124;43m\"\u001b[39;49m\u001b[38;5;124;43mEnergy Efficient Model\u001b[39;49m\u001b[38;5;124;43m\"\u001b[39;49m\u001b[43m)\u001b[49m\n\u001b[1;32m      8\u001b[0m \u001b[38;5;66;03m# Add tags, such as the user\u001b[39;00m\n\u001b[1;32m      9\u001b[0m mlflow\u001b[38;5;241m.\u001b[39mset_tag(\u001b[38;5;124m\"\u001b[39m\u001b[38;5;124muser\u001b[39m\u001b[38;5;124m\"\u001b[39m, \u001b[38;5;124m\"\u001b[39m\u001b[38;5;124morlando.barraza\u001b[39m\u001b[38;5;124m\"\u001b[39m)\n",
      "File \u001b[0;32m/opt/conda/lib/python3.10/site-packages/mlflow/tracking/fluent.py:143\u001b[0m, in \u001b[0;36mset_experiment\u001b[0;34m(experiment_name, experiment_id)\u001b[0m\n\u001b[1;32m    135\u001b[0m \u001b[38;5;28;01mif\u001b[39;00m (experiment_name \u001b[38;5;129;01mis\u001b[39;00m \u001b[38;5;129;01mnot\u001b[39;00m \u001b[38;5;28;01mNone\u001b[39;00m \u001b[38;5;129;01mand\u001b[39;00m experiment_id \u001b[38;5;129;01mis\u001b[39;00m \u001b[38;5;129;01mnot\u001b[39;00m \u001b[38;5;28;01mNone\u001b[39;00m) \u001b[38;5;129;01mor\u001b[39;00m (\n\u001b[1;32m    136\u001b[0m     experiment_name \u001b[38;5;129;01mis\u001b[39;00m \u001b[38;5;28;01mNone\u001b[39;00m \u001b[38;5;129;01mand\u001b[39;00m experiment_id \u001b[38;5;129;01mis\u001b[39;00m \u001b[38;5;28;01mNone\u001b[39;00m\n\u001b[1;32m    137\u001b[0m ):\n\u001b[1;32m    138\u001b[0m     \u001b[38;5;28;01mraise\u001b[39;00m MlflowException(\n\u001b[1;32m    139\u001b[0m         message\u001b[38;5;241m=\u001b[39m\u001b[38;5;124m\"\u001b[39m\u001b[38;5;124mMust specify exactly one of: `experiment_id` or `experiment_name`.\u001b[39m\u001b[38;5;124m\"\u001b[39m,\n\u001b[1;32m    140\u001b[0m         error_code\u001b[38;5;241m=\u001b[39mINVALID_PARAMETER_VALUE,\n\u001b[1;32m    141\u001b[0m     )\n\u001b[0;32m--> 143\u001b[0m client \u001b[38;5;241m=\u001b[39m \u001b[43mMlflowClient\u001b[49m\u001b[43m(\u001b[49m\u001b[43m)\u001b[49m\n\u001b[1;32m    144\u001b[0m \u001b[38;5;28;01mif\u001b[39;00m experiment_id \u001b[38;5;129;01mis\u001b[39;00m \u001b[38;5;28;01mNone\u001b[39;00m:\n\u001b[1;32m    145\u001b[0m     experiment \u001b[38;5;241m=\u001b[39m client\u001b[38;5;241m.\u001b[39mget_experiment_by_name(experiment_name)\n",
      "File \u001b[0;32m/opt/conda/lib/python3.10/site-packages/mlflow/tracking/client.py:134\u001b[0m, in \u001b[0;36mMlflowClient.__init__\u001b[0;34m(self, tracking_uri, registry_uri)\u001b[0m\n\u001b[1;32m    132\u001b[0m final_tracking_uri \u001b[38;5;241m=\u001b[39m utils\u001b[38;5;241m.\u001b[39m_resolve_tracking_uri(tracking_uri)\n\u001b[1;32m    133\u001b[0m \u001b[38;5;28mself\u001b[39m\u001b[38;5;241m.\u001b[39m_registry_uri \u001b[38;5;241m=\u001b[39m registry_utils\u001b[38;5;241m.\u001b[39m_resolve_registry_uri(registry_uri, tracking_uri)\n\u001b[0;32m--> 134\u001b[0m \u001b[38;5;28mself\u001b[39m\u001b[38;5;241m.\u001b[39m_tracking_client \u001b[38;5;241m=\u001b[39m \u001b[43mTrackingServiceClient\u001b[49m\u001b[43m(\u001b[49m\u001b[43mfinal_tracking_uri\u001b[49m\u001b[43m)\u001b[49m\n",
      "File \u001b[0;32m/opt/conda/lib/python3.10/site-packages/mlflow/tracking/_tracking_service/client.py:82\u001b[0m, in \u001b[0;36mTrackingServiceClient.__init__\u001b[0;34m(self, tracking_uri)\u001b[0m\n\u001b[1;32m     77\u001b[0m \u001b[38;5;28mself\u001b[39m\u001b[38;5;241m.\u001b[39mtracking_uri \u001b[38;5;241m=\u001b[39m tracking_uri\n\u001b[1;32m     78\u001b[0m \u001b[38;5;66;03m# NB: Fetch the tracking store (`self.store`) upon client initialization to ensure that\u001b[39;00m\n\u001b[1;32m     79\u001b[0m \u001b[38;5;66;03m# the tracking URI is valid and the store can be properly resolved. We define `store` as a\u001b[39;00m\n\u001b[1;32m     80\u001b[0m \u001b[38;5;66;03m# property method to ensure that the client is serializable, even if the store is not\u001b[39;00m\n\u001b[1;32m     81\u001b[0m \u001b[38;5;66;03m# self.store\u001b[39;00m\n\u001b[0;32m---> 82\u001b[0m \u001b[38;5;28;43mself\u001b[39;49m\u001b[38;5;241;43m.\u001b[39;49m\u001b[43mstore\u001b[49m\n",
      "File \u001b[0;32m/opt/conda/lib/python3.10/site-packages/mlflow/tracking/_tracking_service/client.py:86\u001b[0m, in \u001b[0;36mTrackingServiceClient.store\u001b[0;34m(self)\u001b[0m\n\u001b[1;32m     84\u001b[0m \u001b[38;5;129m@property\u001b[39m\n\u001b[1;32m     85\u001b[0m \u001b[38;5;28;01mdef\u001b[39;00m \u001b[38;5;21mstore\u001b[39m(\u001b[38;5;28mself\u001b[39m):\n\u001b[0;32m---> 86\u001b[0m     \u001b[38;5;28;01mreturn\u001b[39;00m \u001b[43mutils\u001b[49m\u001b[38;5;241;43m.\u001b[39;49m\u001b[43m_get_store\u001b[49m\u001b[43m(\u001b[49m\u001b[38;5;28;43mself\u001b[39;49m\u001b[38;5;241;43m.\u001b[39;49m\u001b[43mtracking_uri\u001b[49m\u001b[43m)\u001b[49m\n",
      "File \u001b[0;32m/opt/conda/lib/python3.10/site-packages/mlflow/tracking/_tracking_service/utils.py:208\u001b[0m, in \u001b[0;36m_get_store\u001b[0;34m(store_uri, artifact_uri)\u001b[0m\n\u001b[1;32m    207\u001b[0m \u001b[38;5;28;01mdef\u001b[39;00m \u001b[38;5;21m_get_store\u001b[39m(store_uri\u001b[38;5;241m=\u001b[39m\u001b[38;5;28;01mNone\u001b[39;00m, artifact_uri\u001b[38;5;241m=\u001b[39m\u001b[38;5;28;01mNone\u001b[39;00m):\n\u001b[0;32m--> 208\u001b[0m     \u001b[38;5;28;01mreturn\u001b[39;00m \u001b[43m_tracking_store_registry\u001b[49m\u001b[38;5;241;43m.\u001b[39;49m\u001b[43mget_store\u001b[49m\u001b[43m(\u001b[49m\u001b[43mstore_uri\u001b[49m\u001b[43m,\u001b[49m\u001b[43m \u001b[49m\u001b[43martifact_uri\u001b[49m\u001b[43m)\u001b[49m\n",
      "File \u001b[0;32m/opt/conda/lib/python3.10/site-packages/mlflow/tracking/_tracking_service/registry.py:42\u001b[0m, in \u001b[0;36mTrackingStoreRegistry.get_store\u001b[0;34m(self, store_uri, artifact_uri)\u001b[0m\n\u001b[1;32m     39\u001b[0m \u001b[38;5;28;01mfrom\u001b[39;00m \u001b[38;5;21;01mmlflow\u001b[39;00m\u001b[38;5;21;01m.\u001b[39;00m\u001b[38;5;21;01mtracking\u001b[39;00m\u001b[38;5;21;01m.\u001b[39;00m\u001b[38;5;21;01m_tracking_service\u001b[39;00m \u001b[38;5;28;01mimport\u001b[39;00m utils\n\u001b[1;32m     41\u001b[0m resolved_store_uri \u001b[38;5;241m=\u001b[39m utils\u001b[38;5;241m.\u001b[39m_resolve_tracking_uri(store_uri)\n\u001b[0;32m---> 42\u001b[0m \u001b[38;5;28;01mreturn\u001b[39;00m \u001b[38;5;28;43mself\u001b[39;49m\u001b[38;5;241;43m.\u001b[39;49m\u001b[43m_get_store_with_resolved_uri\u001b[49m\u001b[43m(\u001b[49m\u001b[43mresolved_store_uri\u001b[49m\u001b[43m,\u001b[49m\u001b[43m \u001b[49m\u001b[43martifact_uri\u001b[49m\u001b[43m)\u001b[49m\n",
      "File \u001b[0;32m/opt/conda/lib/python3.10/site-packages/mlflow/tracking/_tracking_service/registry.py:51\u001b[0m, in \u001b[0;36mTrackingStoreRegistry._get_store_with_resolved_uri\u001b[0;34m(self, resolved_store_uri, artifact_uri)\u001b[0m\n\u001b[1;32m     44\u001b[0m \u001b[38;5;129m@lru_cache\u001b[39m(maxsize\u001b[38;5;241m=\u001b[39m\u001b[38;5;241m100\u001b[39m)\n\u001b[1;32m     45\u001b[0m \u001b[38;5;28;01mdef\u001b[39;00m \u001b[38;5;21m_get_store_with_resolved_uri\u001b[39m(\u001b[38;5;28mself\u001b[39m, resolved_store_uri, artifact_uri\u001b[38;5;241m=\u001b[39m\u001b[38;5;28;01mNone\u001b[39;00m):\n\u001b[1;32m     46\u001b[0m \u001b[38;5;250m    \u001b[39m\u001b[38;5;124;03m\"\"\"\u001b[39;00m\n\u001b[1;32m     47\u001b[0m \u001b[38;5;124;03m    Retrieve the store associated with a resolved (non-None) store URI and an artifact URI.\u001b[39;00m\n\u001b[1;32m     48\u001b[0m \u001b[38;5;124;03m    Caching is done on resolved URIs because the meaning of an unresolved (None) URI may change\u001b[39;00m\n\u001b[1;32m     49\u001b[0m \u001b[38;5;124;03m    depending on external configuration, such as environment variables\u001b[39;00m\n\u001b[1;32m     50\u001b[0m \u001b[38;5;124;03m    \"\"\"\u001b[39;00m\n\u001b[0;32m---> 51\u001b[0m     builder \u001b[38;5;241m=\u001b[39m \u001b[38;5;28;43mself\u001b[39;49m\u001b[38;5;241;43m.\u001b[39;49m\u001b[43mget_store_builder\u001b[49m\u001b[43m(\u001b[49m\u001b[43mresolved_store_uri\u001b[49m\u001b[43m)\u001b[49m\n\u001b[1;32m     52\u001b[0m     \u001b[38;5;28;01mreturn\u001b[39;00m builder(store_uri\u001b[38;5;241m=\u001b[39mresolved_store_uri, artifact_uri\u001b[38;5;241m=\u001b[39martifact_uri)\n",
      "File \u001b[0;32m/opt/conda/lib/python3.10/site-packages/mlflow/tracking/registry.py:84\u001b[0m, in \u001b[0;36mStoreRegistry.get_store_builder\u001b[0;34m(self, store_uri)\u001b[0m\n\u001b[1;32m     82\u001b[0m     store_builder \u001b[38;5;241m=\u001b[39m \u001b[38;5;28mself\u001b[39m\u001b[38;5;241m.\u001b[39m_registry[scheme]\n\u001b[1;32m     83\u001b[0m \u001b[38;5;28;01mexcept\u001b[39;00m \u001b[38;5;167;01mKeyError\u001b[39;00m:\n\u001b[0;32m---> 84\u001b[0m     \u001b[38;5;28;01mraise\u001b[39;00m UnsupportedModelRegistryStoreURIException(\n\u001b[1;32m     85\u001b[0m         unsupported_uri\u001b[38;5;241m=\u001b[39mstore_uri, supported_uri_schemes\u001b[38;5;241m=\u001b[39m\u001b[38;5;28mlist\u001b[39m(\u001b[38;5;28mself\u001b[39m\u001b[38;5;241m.\u001b[39m_registry\u001b[38;5;241m.\u001b[39mkeys())\n\u001b[1;32m     86\u001b[0m     )\n\u001b[1;32m     87\u001b[0m \u001b[38;5;28;01mreturn\u001b[39;00m store_builder\n",
      "\u001b[0;31mUnsupportedModelRegistryStoreURIException\u001b[0m:  Model registry functionality is unavailable; got unsupported URI 'gs://mlflow_mlops' for model registry data storage. Supported URI schemes are: ['', 'file', 'databricks', 'databricks-uc', 'uc', 'http', 'https', 'postgresql', 'mysql', 'sqlite', 'mssql']. See https://www.mlflow.org/docs/latest/tracking.html#storage for how to run an MLflow server against one of the supported backend storage locations."
     ]
    }
   ],
   "source": [
    "# End any active run before starting a new one\n",
    "if mlflow.active_run() is not None:\n",
    "    mlflow.end_run()\n",
    "\n",
    "# Set the experiment name (creates it if it doesn’t exist)\n",
    "mlflow.set_experiment(\"Energy Efficient Model\")\n",
    "\n",
    "# Add tags, such as the user\n",
    "mlflow.set_tag(\"user\", \"orlando.barraza\")\n",
    "\n",
    "# Set the tracking URI to save the experiment in a bucket or local storage\n",
    "mlflow.set_tracking_uri(\"gs://mlflow_mlops\")  # Example with GCS bucket\n",
    "# mlflow.set_tracking_uri(\"file:///path/to/mlruns\")  # Example for local storage\n"
   ]
  },
  {
   "cell_type": "markdown",
   "id": "c5610666-b91b-4c9d-8b84-d6ca1250fc11",
   "metadata": {},
   "source": [
    "**EJECUCION DE UN EXPERIMENTO PRUEBA**"
   ]
  },
  {
   "cell_type": "code",
   "execution_count": null,
   "id": "5b376231-58fc-4ddd-8c4a-ba615ba36de6",
   "metadata": {},
   "outputs": [],
   "source": [
    "\n",
    "# Start the experiment run\n",
    "with mlflow.start_run(run_name=\"First_Run\") as run:\n",
    "    # Training a simple Linear Regression model\n",
    "    X = np.array([[1], [2], [3], [4], [5]])\n",
    "    y = np.array([3, 6, 9, 12, 15])\n",
    "    model = LinearRegression().fit(X, y)\n",
    "\n",
    "    # Log the trained model\n",
    "    mlflow.sklearn.log_model(model, \"linear_model\")\n",
    "\n",
    "    # Log parameters, metrics, and artifacts\n",
    "    mlflow.log_param(\"alpha\", 0.5)\n",
    "    mlflow.log_metric(\"rmse\", 1.23)\n",
    "\n",
    "    # Print the run ID to verify it started correctly\n",
    "    print(f\"Run ID: {run.info.run_id}\")"
   ]
  },
  {
   "cell_type": "markdown",
   "id": "a1903290-96cf-4916-ad36-d53e0d7c1f86",
   "metadata": {},
   "source": [
    "**COMANDO**\n",
    "mlflow server -h 0.0.0.0 -p 5000 --backend-store-uri postgresql://DB_USER:DB_PASSWORD@DB_ENDPOINT:5432/DB_NAME --default-artifact-root gs://GS_BUCKET_NAME\n",
    "\n",
    "**Explanation:**\n",
    "mlflow server: Starts an MLflow server to manage experiments and artifact storage.\n",
    "\n",
    "-h 0.0.0.0: Sets the server to be accessible from any IP address.\n",
    "\n",
    "-p 5000: Runs the MLflow UI on port 5000.\n",
    "\n",
    "--backend-store-uri: Specifies the database (PostgreSQL in this case) to store metadata such as experiment details, run information, and models. Replace the placeholders:\n",
    "\n",
    "DB_USER: Database username\n",
    "DB_PASSWORD: Database password\n",
    "DB_ENDPOINT: Hostname or IP of the PostgreSQL database\n",
    "DB_NAME: Name of the database\n",
    "\n",
    "--default-artifact-root: Specifies where artifacts (like models, metrics, and logs) will be stored. In this example, it’s set to Google Cloud Storage (GCS) using the path:\n",
    "gs://GS_BUCKET_NAME: Replace with your GCS bucket name.\n",
    "\n",
    "This command ensures that all your experiment metadata is stored in PostgreSQL, while the artifacts are saved in your GCS bucket."
   ]
  },
  {
   "cell_type": "code",
   "execution_count": null,
   "id": "de9a3147-1332-47f9-aa30-b434d5143dfd",
   "metadata": {},
   "outputs": [],
   "source": []
  }
 ],
 "metadata": {
  "environment": {
   "kernel": "conda-base-py",
   "name": "workbench-notebooks.m125",
   "type": "gcloud",
   "uri": "us-docker.pkg.dev/deeplearning-platform-release/gcr.io/workbench-notebooks:m125"
  },
  "kernelspec": {
   "display_name": "Python 3 (ipykernel) (Local)",
   "language": "python",
   "name": "conda-base-py"
  },
  "language_info": {
   "codemirror_mode": {
    "name": "ipython",
    "version": 3
   },
   "file_extension": ".py",
   "mimetype": "text/x-python",
   "name": "python",
   "nbconvert_exporter": "python",
   "pygments_lexer": "ipython3",
   "version": "3.10.15"
  }
 },
 "nbformat": 4,
 "nbformat_minor": 5
}
