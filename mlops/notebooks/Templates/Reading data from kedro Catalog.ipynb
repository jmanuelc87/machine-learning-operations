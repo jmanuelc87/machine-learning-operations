{
 "cells": [
  {
   "cell_type": "markdown",
   "id": "6fc367c5ff21b8aa",
   "metadata": {},
   "source": [
    "# Testing reading data  from catalog\n",
    "En este notebook se probará la lectura de set de datos declarados en el catalogo de Kedro.\n",
    " \n",
    "If you're working outside of the Kedro pipeline—for example, performing exploratory data analysis in a Jupyter notebook—you can still access datasets declared in the catalog by loading the Kedro context and catalog.\n"
   ]
  },
  {
   "cell_type": "code",
   "execution_count": 1,
   "id": "e4d9816b74622424",
   "metadata": {
    "ExecuteTime": {
     "end_time": "2024-10-06T05:53:58.186630Z",
     "start_time": "2024-10-06T05:53:58.008548Z"
    }
   },
   "outputs": [
    {
     "data": {
      "text/html": [
       "<pre style=\"white-space:pre;overflow-x:auto;line-height:normal;font-family:Menlo,'DejaVu Sans Mono',consolas,'Courier New',monospace\"><span style=\"color: #7fbfbf; text-decoration-color: #7fbfbf\">[10/05/24 23:53:58] </span><span style=\"color: #000080; text-decoration-color: #000080\">INFO    </span> Using                                                                  <a href=\"file:///Users/orlandoandrade/miniconda3/envs/Data_Science/lib/python3.11/site-packages/kedro/framework/project/__init__.py\" target=\"_blank\"><span style=\"color: #7f7f7f; text-decoration-color: #7f7f7f\">__init__.py</span></a><span style=\"color: #7f7f7f; text-decoration-color: #7f7f7f\">:</span><a href=\"file:///Users/orlandoandrade/miniconda3/envs/Data_Science/lib/python3.11/site-packages/kedro/framework/project/__init__.py#249\" target=\"_blank\"><span style=\"color: #7f7f7f; text-decoration-color: #7f7f7f\">249</span></a>\n",
       "<span style=\"color: #7fbfbf; text-decoration-color: #7fbfbf\">                    </span>         <span style=\"color: #008000; text-decoration-color: #008000\">'/Users/orlandoandrade/miniconda3/envs/Data_Science/lib/python3.11/sit</span> <span style=\"color: #7f7f7f; text-decoration-color: #7f7f7f\">               </span>\n",
       "<span style=\"color: #7fbfbf; text-decoration-color: #7fbfbf\">                    </span>         <span style=\"color: #008000; text-decoration-color: #008000\">e-packages/kedro/framework/project/rich_logging.yml'</span> as logging        <span style=\"color: #7f7f7f; text-decoration-color: #7f7f7f\">               </span>\n",
       "<span style=\"color: #7fbfbf; text-decoration-color: #7fbfbf\">                    </span>         configuration.                                                         <span style=\"color: #7f7f7f; text-decoration-color: #7f7f7f\">               </span>\n",
       "</pre>\n"
      ],
      "text/plain": [
       "\u001b[2;36m[10/05/24 23:53:58]\u001b[0m\u001b[2;36m \u001b[0m\u001b[34mINFO    \u001b[0m Using                                                                  \u001b]8;id=124534;file:///Users/orlandoandrade/miniconda3/envs/Data_Science/lib/python3.11/site-packages/kedro/framework/project/__init__.py\u001b\\\u001b[2m__init__.py\u001b[0m\u001b]8;;\u001b\\\u001b[2m:\u001b[0m\u001b]8;id=50181;file:///Users/orlandoandrade/miniconda3/envs/Data_Science/lib/python3.11/site-packages/kedro/framework/project/__init__.py#249\u001b\\\u001b[2m249\u001b[0m\u001b]8;;\u001b\\\n",
       "\u001b[2;36m                    \u001b[0m         \u001b[32m'/Users/orlandoandrade/miniconda3/envs/Data_Science/lib/python3.11/sit\u001b[0m \u001b[2m               \u001b[0m\n",
       "\u001b[2;36m                    \u001b[0m         \u001b[32me-packages/kedro/framework/project/rich_logging.yml'\u001b[0m as logging        \u001b[2m               \u001b[0m\n",
       "\u001b[2;36m                    \u001b[0m         configuration.                                                         \u001b[2m               \u001b[0m\n"
      ]
     },
     "metadata": {},
     "output_type": "display_data"
    }
   ],
   "source": [
    "# Import Kedro session and context\n",
    "from kedro.framework.session import KedroSession\n",
    "from kedro.framework.startup import bootstrap_project"
   ]
  },
  {
   "cell_type": "code",
   "execution_count": 2,
   "id": "869442453180bdb1",
   "metadata": {
    "ExecuteTime": {
     "end_time": "2024-10-06T05:53:58.797567Z",
     "start_time": "2024-10-06T05:53:58.793502Z"
    }
   },
   "outputs": [
    {
     "name": "stdout",
     "output_type": "stream",
     "text": [
      "Directorio padre: /Users/orlandoandrade/Documents/Maestria en inteligencia artificial aplicada/Materias/3 trimestre/Repositorio/Repositorio grupal/machine-learning-operations/mlops\n"
     ]
    }
   ],
   "source": [
    "import os\n",
    "\n",
    "# Getting the root path \n",
    "path = os.getcwd()  # Obtiene el directorio actual\n",
    "root_path = os.path.dirname(path)  # Retrocede una carpeta, tengo que darle la dirección raiz del proeycto de Kedro\n",
    "print(f\"Directorio padre: {root_path}\") "
   ]
  },
  {
   "cell_type": "markdown",
   "id": "69c15f8fd3eabaa6",
   "metadata": {},
   "source": [
    "## 1) Inicializando el proyecto \n",
    "\n",
    "El código bootstrap_project(project_path=root_path) se utiliza para inicializar o arrancar un proyecto Kedro en la ruta especificada por root_path. Esto hace lo siguiente:\n",
    "\n",
    "- Carga la configuración del proyecto: Lee los archivos de configuración como catalog.yml, parameters.yml, y otros que estén en la carpeta conf/.\n",
    "- Establece el entorno del proyecto: Prepara las variables de entorno y las rutas necesarias para que el proyecto funcione correctamente.\n",
    "- Prepara el contexto del proyecto: Permite acceder al contexto de Kedro, que incluye el catálogo de datos (catalog), los parámetros (params), y otras configuraciones.\n",
    "\n",
    "Este paso es esencial cuando trabajas fuera del flujo normal de Kedro, por ejemplo, en un notebook de Jupyter o en un script independiente. Al inicializar el proyecto con bootstrap_project, puedes acceder a los componentes clave del proyecto Kedro y utilizar las funcionalidades como cargar datasets desde el catálogo o acceder a los parámetros configurados.\n",
    "\n",
    "En resumen, bootstrap_project(project_path=root_path) prepara y configura el entorno necesario para que puedas interactuar con tu proyecto Kedro desde un entorno externo, asegurando que todas las configuraciones y rutas estén correctamente establecidas."
   ]
  },
  {
   "cell_type": "code",
   "execution_count": 3,
   "id": "c797be74eb1307a5",
   "metadata": {
    "ExecuteTime": {
     "end_time": "2024-10-06T05:53:59.583654Z",
     "start_time": "2024-10-06T05:53:59.197266Z"
    }
   },
   "outputs": [
    {
     "data": {
      "text/html": [
       "<pre style=\"white-space:pre;overflow-x:auto;line-height:normal;font-family:Menlo,'DejaVu Sans Mono',consolas,'Courier New',monospace\"></pre>\n"
      ],
      "text/plain": []
     },
     "metadata": {},
     "output_type": "display_data"
    },
    {
     "data": {
      "text/plain": [
       "\n",
       "\u001b[1;35mProjectMetadata\u001b[0m\u001b[1m(\u001b[0m\n",
       "    \u001b[33mconfig_file\u001b[0m=\u001b[1;35mPosixPath\u001b[0m\u001b[1m(\u001b[0m\u001b[32m'/Users/orlandoandrade/Documents/Maestria en inteligencia artificial aplicada/Materias/3 trimestre/Repositorio/Repositorio grupal/machine-learning-operations/mlops/pyproject.toml'\u001b[0m\u001b[1m)\u001b[0m,\n",
       "    \u001b[33mpackage_name\u001b[0m=\u001b[32m'mlops'\u001b[0m,\n",
       "    \u001b[33mproject_name\u001b[0m=\u001b[32m'MLops'\u001b[0m,\n",
       "    \u001b[33mproject_path\u001b[0m=\u001b[1;35mPosixPath\u001b[0m\u001b[1m(\u001b[0m\u001b[32m'/Users/orlandoandrade/Documents/Maestria en inteligencia artificial aplicada/Materias/3 trimestre/Repositorio/Repositorio grupal/machine-learning-operations/mlops'\u001b[0m\u001b[1m)\u001b[0m,\n",
       "    \u001b[33msource_dir\u001b[0m=\u001b[1;35mPosixPath\u001b[0m\u001b[1m(\u001b[0m\u001b[32m'/Users/orlandoandrade/Documents/Maestria en inteligencia artificial aplicada/Materias/3 trimestre/Repositorio/Repositorio grupal/machine-learning-operations/mlops/src'\u001b[0m\u001b[1m)\u001b[0m,\n",
       "    \u001b[33mkedro_init_version\u001b[0m=\u001b[32m'0.19.8'\u001b[0m,\n",
       "    \u001b[33mtools\u001b[0m=\u001b[1m[\u001b[0m\u001b[32m'Linting'\u001b[0m, \u001b[32m'Testing'\u001b[0m, \u001b[32m'Custom Logging'\u001b[0m, \u001b[32m'Documentation'\u001b[0m, \u001b[32m'Data Structure'\u001b[0m, \u001b[32m'Kedro Viz'\u001b[0m\u001b[1m]\u001b[0m,\n",
       "    \u001b[33mexample_pipeline\u001b[0m=\u001b[32m'False'\u001b[0m\n",
       "\u001b[1m)\u001b[0m"
      ]
     },
     "execution_count": 3,
     "metadata": {},
     "output_type": "execute_result"
    }
   ],
   "source": [
    "# Bootstrap the project (loads settings and configurations)\n",
    "bootstrap_project(project_path=root_path) # Como se puede observar en el output se muestra la configuracion que le dí al proyecto"
   ]
  },
  {
   "cell_type": "code",
   "execution_count": 4,
   "id": "9ef2104a2748c3c6",
   "metadata": {
    "ExecuteTime": {
     "end_time": "2024-10-06T05:53:59.772090Z",
     "start_time": "2024-10-06T05:53:59.584883Z"
    }
   },
   "outputs": [],
   "source": [
    "# Create a Kedro Session and Load the Context\n",
    "with KedroSession.create(project_path=root_path) as session:\n",
    "    context = session.load_context()"
   ]
  },
  {
   "cell_type": "markdown",
   "id": "170666ed9ecae07d",
   "metadata": {},
   "source": [
    "## 2) Accediendo al catalogo "
   ]
  },
  {
   "cell_type": "code",
   "execution_count": 7,
   "id": "ef2fb4d8813b3708",
   "metadata": {
    "ExecuteTime": {
     "end_time": "2024-10-06T05:57:39.631297Z",
     "start_time": "2024-10-06T05:57:39.347419Z"
    }
   },
   "outputs": [
    {
     "data": {
      "text/html": [
       "<pre style=\"white-space:pre;overflow-x:auto;line-height:normal;font-family:Menlo,'DejaVu Sans Mono',consolas,'Courier New',monospace\"><span style=\"color: #7fbfbf; text-decoration-color: #7fbfbf\">[10/05/24 23:57:39] </span><span style=\"color: #000080; text-decoration-color: #000080\">INFO    </span> Kedro is sending anonymous usage data with the sole purpose of improving <a href=\"file:///Users/orlandoandrade/miniconda3/envs/Data_Science/lib/python3.11/site-packages/kedro_telemetry/plugin.py\" target=\"_blank\"><span style=\"color: #7f7f7f; text-decoration-color: #7f7f7f\">plugin.py</span></a><span style=\"color: #7f7f7f; text-decoration-color: #7f7f7f\">:</span><a href=\"file:///Users/orlandoandrade/miniconda3/envs/Data_Science/lib/python3.11/site-packages/kedro_telemetry/plugin.py#233\" target=\"_blank\"><span style=\"color: #7f7f7f; text-decoration-color: #7f7f7f\">233</span></a>\n",
       "<span style=\"color: #7fbfbf; text-decoration-color: #7fbfbf\">                    </span>         the product. No personal data or IP addresses are stored on our side. If <span style=\"color: #7f7f7f; text-decoration-color: #7f7f7f\">             </span>\n",
       "<span style=\"color: #7fbfbf; text-decoration-color: #7fbfbf\">                    </span>         you want to opt out, set the `KEDRO_DISABLE_TELEMETRY` or `DO_NOT_TRACK` <span style=\"color: #7f7f7f; text-decoration-color: #7f7f7f\">             </span>\n",
       "<span style=\"color: #7fbfbf; text-decoration-color: #7fbfbf\">                    </span>         environment variables, or create a `.telemetry` file in the current      <span style=\"color: #7f7f7f; text-decoration-color: #7f7f7f\">             </span>\n",
       "<span style=\"color: #7fbfbf; text-decoration-color: #7fbfbf\">                    </span>         working directory with the contents `consent: false`. Read more at       <span style=\"color: #7f7f7f; text-decoration-color: #7f7f7f\">             </span>\n",
       "<span style=\"color: #7fbfbf; text-decoration-color: #7fbfbf\">                    </span>         <span style=\"color: #0000ff; text-decoration-color: #0000ff; text-decoration: underline\">https://docs.kedro.org/en/stable/configuration/telemetry.html</span>            <span style=\"color: #7f7f7f; text-decoration-color: #7f7f7f\">             </span>\n",
       "</pre>\n"
      ],
      "text/plain": [
       "\u001b[2;36m[10/05/24 23:57:39]\u001b[0m\u001b[2;36m \u001b[0m\u001b[34mINFO    \u001b[0m Kedro is sending anonymous usage data with the sole purpose of improving \u001b]8;id=29065;file:///Users/orlandoandrade/miniconda3/envs/Data_Science/lib/python3.11/site-packages/kedro_telemetry/plugin.py\u001b\\\u001b[2mplugin.py\u001b[0m\u001b]8;;\u001b\\\u001b[2m:\u001b[0m\u001b]8;id=445251;file:///Users/orlandoandrade/miniconda3/envs/Data_Science/lib/python3.11/site-packages/kedro_telemetry/plugin.py#233\u001b\\\u001b[2m233\u001b[0m\u001b]8;;\u001b\\\n",
       "\u001b[2;36m                    \u001b[0m         the product. No personal data or IP addresses are stored on our side. If \u001b[2m             \u001b[0m\n",
       "\u001b[2;36m                    \u001b[0m         you want to opt out, set the `KEDRO_DISABLE_TELEMETRY` or `DO_NOT_TRACK` \u001b[2m             \u001b[0m\n",
       "\u001b[2;36m                    \u001b[0m         environment variables, or create a `.telemetry` file in the current      \u001b[2m             \u001b[0m\n",
       "\u001b[2;36m                    \u001b[0m         working directory with the contents `consent: false`. Read more at       \u001b[2m             \u001b[0m\n",
       "\u001b[2;36m                    \u001b[0m         \u001b[4;94mhttps://docs.kedro.org/en/stable/configuration/telemetry.html\u001b[0m            \u001b[2m             \u001b[0m\n"
      ]
     },
     "metadata": {},
     "output_type": "display_data"
    },
    {
     "data": {
      "text/html": [
       "<pre style=\"white-space:pre;overflow-x:auto;line-height:normal;font-family:Menlo,'DejaVu Sans Mono',consolas,'Courier New',monospace\"></pre>\n"
      ],
      "text/plain": []
     },
     "metadata": {},
     "output_type": "display_data"
    },
    {
     "data": {
      "text/plain": [
       "\n",
       "\u001b[1m{\u001b[0m\u001b[32m'raw_data'\u001b[0m: \u001b[32m\"kedro_datasets.pandas.excel_dataset.ExcelDataset\u001b[0m\u001b[32m(\u001b[0m\u001b[32mfilepath\u001b[0m\u001b[32m=\u001b[0m\u001b[32mPurePosixPath\u001b[0m\u001b[32m(\u001b[0m\u001b[32m'/Users/orlandoandrade/Documents/Maestria \"\u001b[0m\n",
       "             \u001b[32m'en inteligencia artificial aplicada/Materias/3 '\u001b[0m\n",
       "             \u001b[32m'trimestre/Repositorio/Repositorio '\u001b[0m\n",
       "             \u001b[32m\"grupal/machine-learning-operations/mlops/data/01_raw/ENB2012_data.xlsx'\u001b[0m\u001b[32m)\u001b[0m\u001b[32m, \"\u001b[0m\n",
       "             \u001b[32m\"\u001b[0m\u001b[32mprotocol\u001b[0m\u001b[32m='file', \u001b[0m\u001b[32mload_args\u001b[0m\u001b[32m=\u001b[0m\u001b[32m{\u001b[0m\u001b[32m'engine': 'openpyxl'\u001b[0m\u001b[32m}\u001b[0m\u001b[32m, \"\u001b[0m\n",
       "             \u001b[32m\"\u001b[0m\u001b[32msave_args\u001b[0m\u001b[32m=\u001b[0m\u001b[32m{\u001b[0m\u001b[32m'index': False\u001b[0m\u001b[32m}\u001b[0m\u001b[32m, \u001b[0m\u001b[32mwriter_args\u001b[0m\u001b[32m=\u001b[0m\u001b[32m{\u001b[0m\u001b[32m'engine': 'openpyxl'\u001b[0m\u001b[32m}\u001b[0m\u001b[32m)\u001b[0m\u001b[32m\"\u001b[0m,\n",
       " \u001b[32m'parameters'\u001b[0m: \u001b[32m\"kedro.io.memory_dataset.MemoryDataset\u001b[0m\u001b[32m(\u001b[0m\u001b[32mdata\u001b[0m\u001b[32m='\u001b[0m\u001b[32m<\u001b[0m\u001b[32mdict\u001b[0m\u001b[32m>\u001b[0m\u001b[32m'\u001b[0m\u001b[32m)\u001b[0m\u001b[32m\"\u001b[0m\u001b[1m}\u001b[0m"
      ]
     },
     "execution_count": 7,
     "metadata": {},
     "output_type": "execute_result"
    }
   ],
   "source": [
    "catalog = context.catalog\n",
    "catalog # Aqui puedo ver el nombre de mis set de datos, en este caso uno de ellos llamado raw_data "
   ]
  },
  {
   "cell_type": "markdown",
   "id": "921a4d121e234ed8",
   "metadata": {},
   "source": [
    "## 3) Carga del set de datos "
   ]
  },
  {
   "cell_type": "code",
   "execution_count": 8,
   "id": "a8312a18bfe88b3b",
   "metadata": {
    "ExecuteTime": {
     "end_time": "2024-10-06T05:59:04.407357Z",
     "start_time": "2024-10-06T05:59:04.076343Z"
    }
   },
   "outputs": [
    {
     "data": {
      "text/html": [
       "<pre style=\"white-space:pre;overflow-x:auto;line-height:normal;font-family:Menlo,'DejaVu Sans Mono',consolas,'Courier New',monospace\"><span style=\"color: #7fbfbf; text-decoration-color: #7fbfbf\">[10/05/24 23:59:04] </span><span style=\"color: #000080; text-decoration-color: #000080\">INFO    </span> Loading data from <span style=\"color: #ff8700; text-decoration-color: #ff8700\">raw_data</span> <span style=\"font-weight: bold\">(</span>ExcelDataset<span style=\"font-weight: bold\">)</span><span style=\"color: #808000; text-decoration-color: #808000\">...</span>                       <a href=\"file:///Users/orlandoandrade/miniconda3/envs/Data_Science/lib/python3.11/site-packages/kedro/io/data_catalog.py\" target=\"_blank\"><span style=\"color: #7f7f7f; text-decoration-color: #7f7f7f\">data_catalog.py</span></a><span style=\"color: #7f7f7f; text-decoration-color: #7f7f7f\">:</span><a href=\"file:///Users/orlandoandrade/miniconda3/envs/Data_Science/lib/python3.11/site-packages/kedro/io/data_catalog.py#539\" target=\"_blank\"><span style=\"color: #7f7f7f; text-decoration-color: #7f7f7f\">539</span></a>\n",
       "</pre>\n"
      ],
      "text/plain": [
       "\u001b[2;36m[10/05/24 23:59:04]\u001b[0m\u001b[2;36m \u001b[0m\u001b[34mINFO    \u001b[0m Loading data from \u001b[38;5;208mraw_data\u001b[0m \u001b[1m(\u001b[0mExcelDataset\u001b[1m)\u001b[0m\u001b[33m...\u001b[0m                       \u001b]8;id=435212;file:///Users/orlandoandrade/miniconda3/envs/Data_Science/lib/python3.11/site-packages/kedro/io/data_catalog.py\u001b\\\u001b[2mdata_catalog.py\u001b[0m\u001b]8;;\u001b\\\u001b[2m:\u001b[0m\u001b]8;id=172014;file:///Users/orlandoandrade/miniconda3/envs/Data_Science/lib/python3.11/site-packages/kedro/io/data_catalog.py#539\u001b\\\u001b[2m539\u001b[0m\u001b]8;;\u001b\\\n"
      ]
     },
     "metadata": {},
     "output_type": "display_data"
    },
    {
     "name": "stdout",
     "output_type": "stream",
     "text": [
      "Tipo de objeto: <class 'pandas.core.frame.DataFrame'>\n"
     ]
    },
    {
     "data": {
      "text/html": [
       "<pre style=\"white-space:pre;overflow-x:auto;line-height:normal;font-family:Menlo,'DejaVu Sans Mono',consolas,'Courier New',monospace\"></pre>\n"
      ],
      "text/plain": []
     },
     "metadata": {},
     "output_type": "display_data"
    },
    {
     "data": {
      "text/html": [
       "<div>\n",
       "<style scoped>\n",
       "    .dataframe tbody tr th:only-of-type {\n",
       "        vertical-align: middle;\n",
       "    }\n",
       "\n",
       "    .dataframe tbody tr th {\n",
       "        vertical-align: top;\n",
       "    }\n",
       "\n",
       "    .dataframe thead th {\n",
       "        text-align: right;\n",
       "    }\n",
       "</style>\n",
       "<table border=\"1\" class=\"dataframe\">\n",
       "  <thead>\n",
       "    <tr style=\"text-align: right;\">\n",
       "      <th></th>\n",
       "      <th>X1</th>\n",
       "      <th>X2</th>\n",
       "      <th>X3</th>\n",
       "      <th>X4</th>\n",
       "      <th>X5</th>\n",
       "      <th>X6</th>\n",
       "      <th>X7</th>\n",
       "      <th>X8</th>\n",
       "      <th>Y1</th>\n",
       "      <th>Y2</th>\n",
       "    </tr>\n",
       "  </thead>\n",
       "  <tbody>\n",
       "    <tr>\n",
       "      <th>0</th>\n",
       "      <td>0.98</td>\n",
       "      <td>514.5</td>\n",
       "      <td>294.0</td>\n",
       "      <td>110.25</td>\n",
       "      <td>7.0</td>\n",
       "      <td>2</td>\n",
       "      <td>0.0</td>\n",
       "      <td>0</td>\n",
       "      <td>15.55</td>\n",
       "      <td>21.33</td>\n",
       "    </tr>\n",
       "    <tr>\n",
       "      <th>1</th>\n",
       "      <td>0.98</td>\n",
       "      <td>514.5</td>\n",
       "      <td>294.0</td>\n",
       "      <td>110.25</td>\n",
       "      <td>7.0</td>\n",
       "      <td>3</td>\n",
       "      <td>0.0</td>\n",
       "      <td>0</td>\n",
       "      <td>15.55</td>\n",
       "      <td>21.33</td>\n",
       "    </tr>\n",
       "    <tr>\n",
       "      <th>2</th>\n",
       "      <td>0.98</td>\n",
       "      <td>514.5</td>\n",
       "      <td>294.0</td>\n",
       "      <td>110.25</td>\n",
       "      <td>7.0</td>\n",
       "      <td>4</td>\n",
       "      <td>0.0</td>\n",
       "      <td>0</td>\n",
       "      <td>15.55</td>\n",
       "      <td>21.33</td>\n",
       "    </tr>\n",
       "    <tr>\n",
       "      <th>3</th>\n",
       "      <td>0.98</td>\n",
       "      <td>514.5</td>\n",
       "      <td>294.0</td>\n",
       "      <td>110.25</td>\n",
       "      <td>7.0</td>\n",
       "      <td>5</td>\n",
       "      <td>0.0</td>\n",
       "      <td>0</td>\n",
       "      <td>15.55</td>\n",
       "      <td>21.33</td>\n",
       "    </tr>\n",
       "    <tr>\n",
       "      <th>4</th>\n",
       "      <td>0.90</td>\n",
       "      <td>563.5</td>\n",
       "      <td>318.5</td>\n",
       "      <td>122.50</td>\n",
       "      <td>7.0</td>\n",
       "      <td>2</td>\n",
       "      <td>0.0</td>\n",
       "      <td>0</td>\n",
       "      <td>20.84</td>\n",
       "      <td>28.28</td>\n",
       "    </tr>\n",
       "    <tr>\n",
       "      <th>...</th>\n",
       "      <td>...</td>\n",
       "      <td>...</td>\n",
       "      <td>...</td>\n",
       "      <td>...</td>\n",
       "      <td>...</td>\n",
       "      <td>...</td>\n",
       "      <td>...</td>\n",
       "      <td>...</td>\n",
       "      <td>...</td>\n",
       "      <td>...</td>\n",
       "    </tr>\n",
       "    <tr>\n",
       "      <th>763</th>\n",
       "      <td>0.64</td>\n",
       "      <td>784.0</td>\n",
       "      <td>343.0</td>\n",
       "      <td>220.50</td>\n",
       "      <td>3.5</td>\n",
       "      <td>5</td>\n",
       "      <td>0.4</td>\n",
       "      <td>5</td>\n",
       "      <td>17.88</td>\n",
       "      <td>21.40</td>\n",
       "    </tr>\n",
       "    <tr>\n",
       "      <th>764</th>\n",
       "      <td>0.62</td>\n",
       "      <td>808.5</td>\n",
       "      <td>367.5</td>\n",
       "      <td>220.50</td>\n",
       "      <td>3.5</td>\n",
       "      <td>2</td>\n",
       "      <td>0.4</td>\n",
       "      <td>5</td>\n",
       "      <td>16.54</td>\n",
       "      <td>16.88</td>\n",
       "    </tr>\n",
       "    <tr>\n",
       "      <th>765</th>\n",
       "      <td>0.62</td>\n",
       "      <td>808.5</td>\n",
       "      <td>367.5</td>\n",
       "      <td>220.50</td>\n",
       "      <td>3.5</td>\n",
       "      <td>3</td>\n",
       "      <td>0.4</td>\n",
       "      <td>5</td>\n",
       "      <td>16.44</td>\n",
       "      <td>17.11</td>\n",
       "    </tr>\n",
       "    <tr>\n",
       "      <th>766</th>\n",
       "      <td>0.62</td>\n",
       "      <td>808.5</td>\n",
       "      <td>367.5</td>\n",
       "      <td>220.50</td>\n",
       "      <td>3.5</td>\n",
       "      <td>4</td>\n",
       "      <td>0.4</td>\n",
       "      <td>5</td>\n",
       "      <td>16.48</td>\n",
       "      <td>16.61</td>\n",
       "    </tr>\n",
       "    <tr>\n",
       "      <th>767</th>\n",
       "      <td>0.62</td>\n",
       "      <td>808.5</td>\n",
       "      <td>367.5</td>\n",
       "      <td>220.50</td>\n",
       "      <td>3.5</td>\n",
       "      <td>5</td>\n",
       "      <td>0.4</td>\n",
       "      <td>5</td>\n",
       "      <td>16.64</td>\n",
       "      <td>16.03</td>\n",
       "    </tr>\n",
       "  </tbody>\n",
       "</table>\n",
       "<p>768 rows × 10 columns</p>\n",
       "</div>"
      ],
      "text/plain": [
       "\n",
       "       X1     X2     X3      X4   X5  X6   X7  X8     Y1     Y2\n",
       "\u001b[1;36m0\u001b[0m    \u001b[1;36m0.98\u001b[0m  \u001b[1;36m514.5\u001b[0m  \u001b[1;36m294.0\u001b[0m  \u001b[1;36m110.25\u001b[0m  \u001b[1;36m7.0\u001b[0m   \u001b[1;36m2\u001b[0m  \u001b[1;36m0.0\u001b[0m   \u001b[1;36m0\u001b[0m  \u001b[1;36m15.55\u001b[0m  \u001b[1;36m21.33\u001b[0m\n",
       "\u001b[1;36m1\u001b[0m    \u001b[1;36m0.98\u001b[0m  \u001b[1;36m514.5\u001b[0m  \u001b[1;36m294.0\u001b[0m  \u001b[1;36m110.25\u001b[0m  \u001b[1;36m7.0\u001b[0m   \u001b[1;36m3\u001b[0m  \u001b[1;36m0.0\u001b[0m   \u001b[1;36m0\u001b[0m  \u001b[1;36m15.55\u001b[0m  \u001b[1;36m21.33\u001b[0m\n",
       "\u001b[1;36m2\u001b[0m    \u001b[1;36m0.98\u001b[0m  \u001b[1;36m514.5\u001b[0m  \u001b[1;36m294.0\u001b[0m  \u001b[1;36m110.25\u001b[0m  \u001b[1;36m7.0\u001b[0m   \u001b[1;36m4\u001b[0m  \u001b[1;36m0.0\u001b[0m   \u001b[1;36m0\u001b[0m  \u001b[1;36m15.55\u001b[0m  \u001b[1;36m21.33\u001b[0m\n",
       "\u001b[1;36m3\u001b[0m    \u001b[1;36m0.98\u001b[0m  \u001b[1;36m514.5\u001b[0m  \u001b[1;36m294.0\u001b[0m  \u001b[1;36m110.25\u001b[0m  \u001b[1;36m7.0\u001b[0m   \u001b[1;36m5\u001b[0m  \u001b[1;36m0.0\u001b[0m   \u001b[1;36m0\u001b[0m  \u001b[1;36m15.55\u001b[0m  \u001b[1;36m21.33\u001b[0m\n",
       "\u001b[1;36m4\u001b[0m    \u001b[1;36m0.90\u001b[0m  \u001b[1;36m563.5\u001b[0m  \u001b[1;36m318.5\u001b[0m  \u001b[1;36m122.50\u001b[0m  \u001b[1;36m7.0\u001b[0m   \u001b[1;36m2\u001b[0m  \u001b[1;36m0.0\u001b[0m   \u001b[1;36m0\u001b[0m  \u001b[1;36m20.84\u001b[0m  \u001b[1;36m28.28\u001b[0m\n",
       "..    \u001b[33m...\u001b[0m    \u001b[33m...\u001b[0m    \u001b[33m...\u001b[0m     \u001b[33m...\u001b[0m  \u001b[33m...\u001b[0m  ..  \u001b[33m...\u001b[0m  ..    \u001b[33m...\u001b[0m    \u001b[33m...\u001b[0m\n",
       "\u001b[1;36m763\u001b[0m  \u001b[1;36m0.64\u001b[0m  \u001b[1;36m784.0\u001b[0m  \u001b[1;36m343.0\u001b[0m  \u001b[1;36m220.50\u001b[0m  \u001b[1;36m3.5\u001b[0m   \u001b[1;36m5\u001b[0m  \u001b[1;36m0.4\u001b[0m   \u001b[1;36m5\u001b[0m  \u001b[1;36m17.88\u001b[0m  \u001b[1;36m21.40\u001b[0m\n",
       "\u001b[1;36m764\u001b[0m  \u001b[1;36m0.62\u001b[0m  \u001b[1;36m808.5\u001b[0m  \u001b[1;36m367.5\u001b[0m  \u001b[1;36m220.50\u001b[0m  \u001b[1;36m3.5\u001b[0m   \u001b[1;36m2\u001b[0m  \u001b[1;36m0.4\u001b[0m   \u001b[1;36m5\u001b[0m  \u001b[1;36m16.54\u001b[0m  \u001b[1;36m16.88\u001b[0m\n",
       "\u001b[1;36m765\u001b[0m  \u001b[1;36m0.62\u001b[0m  \u001b[1;36m808.5\u001b[0m  \u001b[1;36m367.5\u001b[0m  \u001b[1;36m220.50\u001b[0m  \u001b[1;36m3.5\u001b[0m   \u001b[1;36m3\u001b[0m  \u001b[1;36m0.4\u001b[0m   \u001b[1;36m5\u001b[0m  \u001b[1;36m16.44\u001b[0m  \u001b[1;36m17.11\u001b[0m\n",
       "\u001b[1;36m766\u001b[0m  \u001b[1;36m0.62\u001b[0m  \u001b[1;36m808.5\u001b[0m  \u001b[1;36m367.5\u001b[0m  \u001b[1;36m220.50\u001b[0m  \u001b[1;36m3.5\u001b[0m   \u001b[1;36m4\u001b[0m  \u001b[1;36m0.4\u001b[0m   \u001b[1;36m5\u001b[0m  \u001b[1;36m16.48\u001b[0m  \u001b[1;36m16.61\u001b[0m\n",
       "\u001b[1;36m767\u001b[0m  \u001b[1;36m0.62\u001b[0m  \u001b[1;36m808.5\u001b[0m  \u001b[1;36m367.5\u001b[0m  \u001b[1;36m220.50\u001b[0m  \u001b[1;36m3.5\u001b[0m   \u001b[1;36m5\u001b[0m  \u001b[1;36m0.4\u001b[0m   \u001b[1;36m5\u001b[0m  \u001b[1;36m16.64\u001b[0m  \u001b[1;36m16.03\u001b[0m\n",
       "\n",
       "\u001b[1m[\u001b[0m\u001b[1;36m768\u001b[0m rows x \u001b[1;36m10\u001b[0m columns\u001b[1m]\u001b[0m"
      ]
     },
     "execution_count": 8,
     "metadata": {},
     "output_type": "execute_result"
    }
   ],
   "source": [
    "# Load the dataset by name\n",
    "raw_data = catalog.load(\"raw_data\")\n",
    "print(\"Tipo de objeto:\", type(raw_data))\n",
    "raw_data"
   ]
  },
  {
   "cell_type": "code",
   "execution_count": null,
   "id": "8419ebcd2a2c37c1",
   "metadata": {},
   "outputs": [],
   "source": []
  }
 ],
 "metadata": {
  "environment": {
   "kernel": "conda-base-py",
   "name": "workbench-notebooks.m125",
   "type": "gcloud",
   "uri": "us-docker.pkg.dev/deeplearning-platform-release/gcr.io/workbench-notebooks:m125"
  },
  "kernelspec": {
   "display_name": "Python 3 (ipykernel) (Local)",
   "language": "python",
   "name": "conda-base-py"
  },
  "language_info": {
   "codemirror_mode": {
    "name": "ipython",
    "version": 3
   },
   "file_extension": ".py",
   "mimetype": "text/x-python",
   "name": "python",
   "nbconvert_exporter": "python",
   "pygments_lexer": "ipython3",
   "version": "3.10.15"
  }
 },
 "nbformat": 4,
 "nbformat_minor": 5
}
