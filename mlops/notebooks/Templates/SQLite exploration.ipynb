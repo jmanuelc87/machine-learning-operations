{
 "cells": [
  {
   "cell_type": "markdown",
   "id": "f84e5b4a-ca11-4d29-bea0-d84d113e2926",
   "metadata": {},
   "source": [
    "# Explorando la base de datos SQLite"
   ]
  },
  {
   "cell_type": "code",
   "execution_count": 5,
   "id": "535a8e02-6ba6-4ee7-9df1-547e4e49ac0c",
   "metadata": {},
   "outputs": [],
   "source": [
    "import sqlite3\n",
    "import pandas as pd \n",
    "\n",
    "# 1. Connect to the SQLite database file\n",
    "db_path = \"/home/jupyter/mlruns.db\"  \n",
    "conn = sqlite3.connect(db_path) # Conexión a la base de datos \n",
    "\n",
    "# 2. Create a cursor object to execute SQL queries\n",
    "cursor = conn.cursor()"
   ]
  },
  {
   "cell_type": "code",
   "execution_count": 6,
   "id": "ec34990d-3d0f-4ef9-87c4-9591d0af916e",
   "metadata": {
    "tags": []
   },
   "outputs": [],
   "source": [
    "# Visualización de las tablas en la BD \n",
    "# Query to get all table names\n",
    "cursor.execute(\"SELECT name FROM sqlite_master WHERE type='table';\")\n",
    "\n",
    "# Fetch all table names\n",
    "tables = cursor.fetchall()"
   ]
  },
  {
   "cell_type": "code",
   "execution_count": 7,
   "id": "e12149c7-5b35-4d63-a620-a73f2a482cfc",
   "metadata": {
    "tags": []
   },
   "outputs": [
    {
     "data": {
      "text/plain": [
       "[('experiments',),\n",
       " ('alembic_version',),\n",
       " ('experiment_tags',),\n",
       " ('registered_models',),\n",
       " ('runs',),\n",
       " ('registered_model_tags',),\n",
       " ('model_version_tags',),\n",
       " ('model_versions',),\n",
       " ('latest_metrics',),\n",
       " ('metrics',),\n",
       " ('registered_model_aliases',),\n",
       " ('datasets',),\n",
       " ('inputs',),\n",
       " ('input_tags',),\n",
       " ('params',),\n",
       " ('trace_info',),\n",
       " ('trace_tags',),\n",
       " ('trace_request_metadata',),\n",
       " ('tags',)]"
      ]
     },
     "execution_count": 7,
     "metadata": {},
     "output_type": "execute_result"
    }
   ],
   "source": [
    "tables"
   ]
  },
  {
   "cell_type": "markdown",
   "id": "7e4b9078-ae2d-49d7-911c-28a4cf846dda",
   "metadata": {},
   "source": [
    "**Visualización del contenido de tablas**"
   ]
  },
  {
   "cell_type": "code",
   "execution_count": 8,
   "id": "4404fcaf-71c3-4302-b87d-dd9f950e6711",
   "metadata": {
    "tags": []
   },
   "outputs": [
    {
     "data": {
      "text/html": [
       "<div>\n",
       "<style scoped>\n",
       "    .dataframe tbody tr th:only-of-type {\n",
       "        vertical-align: middle;\n",
       "    }\n",
       "\n",
       "    .dataframe tbody tr th {\n",
       "        vertical-align: top;\n",
       "    }\n",
       "\n",
       "    .dataframe thead th {\n",
       "        text-align: right;\n",
       "    }\n",
       "</style>\n",
       "<table border=\"1\" class=\"dataframe\">\n",
       "  <thead>\n",
       "    <tr style=\"text-align: right;\">\n",
       "      <th></th>\n",
       "      <th>experiment_id</th>\n",
       "      <th>name</th>\n",
       "      <th>artifact_location</th>\n",
       "      <th>lifecycle_stage</th>\n",
       "      <th>creation_time</th>\n",
       "      <th>last_update_time</th>\n",
       "    </tr>\n",
       "  </thead>\n",
       "  <tbody>\n",
       "    <tr>\n",
       "      <th>0</th>\n",
       "      <td>0</td>\n",
       "      <td>Default</td>\n",
       "      <td>gs://mlflow_mlops/0</td>\n",
       "      <td>active</td>\n",
       "      <td>1729146448848</td>\n",
       "      <td>1729146448848</td>\n",
       "    </tr>\n",
       "    <tr>\n",
       "      <th>1</th>\n",
       "      <td>1</td>\n",
       "      <td>Energy Efficient Model</td>\n",
       "      <td>gs://mlflow_mlops/1</td>\n",
       "      <td>deleted</td>\n",
       "      <td>1729173018706</td>\n",
       "      <td>1729174101144</td>\n",
       "    </tr>\n",
       "    <tr>\n",
       "      <th>2</th>\n",
       "      <td>2</td>\n",
       "      <td>Energy Efficient</td>\n",
       "      <td>gs://mlflow_mlops/2</td>\n",
       "      <td>active</td>\n",
       "      <td>1729174152908</td>\n",
       "      <td>1729174152908</td>\n",
       "    </tr>\n",
       "  </tbody>\n",
       "</table>\n",
       "</div>"
      ],
      "text/plain": [
       "   experiment_id                    name    artifact_location lifecycle_stage  \\\n",
       "0              0                 Default  gs://mlflow_mlops/0          active   \n",
       "1              1  Energy Efficient Model  gs://mlflow_mlops/1         deleted   \n",
       "2              2        Energy Efficient  gs://mlflow_mlops/2          active   \n",
       "\n",
       "   creation_time  last_update_time  \n",
       "0  1729146448848     1729146448848  \n",
       "1  1729173018706     1729174101144  \n",
       "2  1729174152908     1729174152908  "
      ]
     },
     "execution_count": 8,
     "metadata": {},
     "output_type": "execute_result"
    }
   ],
   "source": [
    "# Load the 'experiments' table into a Pandas DataFrame\n",
    "experiments_df = pd.read_sql_query(\"SELECT * FROM experiments;\", conn)\n",
    "experiments_df"
   ]
  },
  {
   "cell_type": "code",
   "execution_count": null,
   "id": "f4d97b81-f67d-4004-a6f3-9f5ab69f3c8e",
   "metadata": {},
   "outputs": [],
   "source": []
  }
 ],
 "metadata": {
  "environment": {
   "kernel": "conda-base-py",
   "name": "workbench-notebooks.m125",
   "type": "gcloud",
   "uri": "us-docker.pkg.dev/deeplearning-platform-release/gcr.io/workbench-notebooks:m125"
  },
  "kernelspec": {
   "display_name": "Python 3 (ipykernel) (Local)",
   "language": "python",
   "name": "conda-base-py"
  },
  "language_info": {
   "codemirror_mode": {
    "name": "ipython",
    "version": 3
   },
   "file_extension": ".py",
   "mimetype": "text/x-python",
   "name": "python",
   "nbconvert_exporter": "python",
   "pygments_lexer": "ipython3",
   "version": "3.10.15"
  }
 },
 "nbformat": 4,
 "nbformat_minor": 5
}
