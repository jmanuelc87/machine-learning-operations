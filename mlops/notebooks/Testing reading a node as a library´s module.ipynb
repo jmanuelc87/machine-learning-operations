{
 "cells": [
  {
   "metadata": {},
   "cell_type": "markdown",
   "source": [
    "# Importación de un nodo, como módulo de una librería\n",
    "Nuevamante esto es útil cuando estas en una etapa de experiemntación dentro de un notebook. Puedes definir una serie de nodos (funciones) y ejecutarlas directamente en el notebook para poder hacer pruebas en el procesmaiento que estas planteando\n",
    "  "
   ],
   "id": "3707d803c0161f1d"
  },
  {
   "metadata": {},
   "cell_type": "markdown",
   "source": [
    "## 1) Añade el Directorio src/ al PYTHONPATH\n",
    "Para que Python pueda encontrar tus módulos, debes asegurarte de que el directorio src/ esté en tu PYTHONPATH\n"
   ],
   "id": "f53b187d8ba22220"
  },
  {
   "metadata": {
    "ExecuteTime": {
     "end_time": "2024-10-06T18:58:24.284379Z",
     "start_time": "2024-10-06T18:58:24.279151Z"
    }
   },
   "cell_type": "code",
   "source": [
    "import sys\n",
    "import os\n",
    "\n",
    "# Establece la ruta al directorio raíz del proyecto\n",
    "project_path = \"/Users/orlandoandrade/Documents/Maestria en inteligencia artificial aplicada/Materias/3 trimestre/Repositorio/Repositorio grupal/machine-learning-operations/mlops\"\n",
    "src_path = os.path.join(project_path, \"src\")\n",
    "\n",
    "# Añade src/ al sys.path si no está ya presente\n",
    "if src_path not in sys.path:\n",
    "    sys.path.append(src_path)\n",
    "    \n",
    "# NOTA: sys.path: Es una lista que contiene las rutas en las que Python busca los módulos y paquetes cuando los importas en un script. Si una carpeta no está en esta lista, Python no puede encontrar los archivos dentro de esa carpeta cuando intentas importarlos    "
   ],
   "id": "828997a865346191",
   "outputs": [],
   "execution_count": 1
  },
  {
   "metadata": {},
   "cell_type": "markdown",
   "source": "## 2) Importación de nodos \n",
   "id": "340ceedb269b9f35"
  },
  {
   "metadata": {
    "ExecuteTime": {
     "end_time": "2024-10-06T18:58:26.525391Z",
     "start_time": "2024-10-06T18:58:26.051887Z"
    }
   },
   "cell_type": "code",
   "source": "from mlops.pipelines.EDA import boxplot # Importacion de funciones declaradas ",
   "id": "15be089f829f22c7",
   "outputs": [],
   "execution_count": 2
  },
  {
   "metadata": {},
   "cell_type": "markdown",
   "source": [
    "## 3) Prueba de los modulos \n",
    "Inicializar el Contexto de Kedro (recomendado). Si tus nodos dependen de datasets definidos en el catálogo de Kedro o de parámetros, es conveniente inicializar el contexto de Kedro para acceder al catálogo y a los parámetros.\n",
    "\n"
   ],
   "id": "2930c147ce9ccaf7"
  },
  {
   "metadata": {},
   "cell_type": "markdown",
   "source": "### 3.1) Inicializando le sesión de Kedro ",
   "id": "92d616e8f7266fc5"
  },
  {
   "metadata": {
    "ExecuteTime": {
     "end_time": "2024-10-06T18:58:44.760819Z",
     "start_time": "2024-10-06T18:58:44.054598Z"
    }
   },
   "cell_type": "code",
   "source": [
    "import os\n",
    "from kedro.framework.session import KedroSession\n",
    "from kedro.framework.startup import bootstrap_project\n",
    "\n",
    "# Getting the root path \n",
    "path = os.getcwd()  # Obtiene el directorio actual\n",
    "root_path = os.path.dirname(path)  # Retrocede una carpeta, tengo que darle la dirección raiz del proeycto de Kedro\n",
    "print(f\"Directorio padre: {root_path}\") \n",
    "\n",
    "\n",
    "bootstrap_project(project_path=root_path) # Como se puede observar en el output se muestra la configuracion que le dí al proyecto"
   ],
   "id": "843d02ef98dbbc66",
   "outputs": [
    {
     "data": {
      "text/plain": [
       "\u001B[2;36m[10/06/24 12:58:44]\u001B[0m\u001B[2;36m \u001B[0m\u001B[34mINFO    \u001B[0m Using                                                                  \u001B]8;id=916693;file:///Users/orlandoandrade/miniconda3/envs/Data_Science/lib/python3.11/site-packages/kedro/framework/project/__init__.py\u001B\\\u001B[2m__init__.py\u001B[0m\u001B]8;;\u001B\\\u001B[2m:\u001B[0m\u001B]8;id=210892;file:///Users/orlandoandrade/miniconda3/envs/Data_Science/lib/python3.11/site-packages/kedro/framework/project/__init__.py#249\u001B\\\u001B[2m249\u001B[0m\u001B]8;;\u001B\\\n",
       "\u001B[2;36m                    \u001B[0m         \u001B[32m'/Users/orlandoandrade/miniconda3/envs/Data_Science/lib/python3.11/sit\u001B[0m \u001B[2m               \u001B[0m\n",
       "\u001B[2;36m                    \u001B[0m         \u001B[32me-packages/kedro/framework/project/rich_logging.yml'\u001B[0m as logging        \u001B[2m               \u001B[0m\n",
       "\u001B[2;36m                    \u001B[0m         configuration.                                                         \u001B[2m               \u001B[0m\n"
      ],
      "text/html": [
       "<pre style=\"white-space:pre;overflow-x:auto;line-height:normal;font-family:Menlo,'DejaVu Sans Mono',consolas,'Courier New',monospace\"><span style=\"color: #7fbfbf; text-decoration-color: #7fbfbf\">[10/06/24 12:58:44] </span><span style=\"color: #000080; text-decoration-color: #000080\">INFO    </span> Using                                                                  <a href=\"file:///Users/orlandoandrade/miniconda3/envs/Data_Science/lib/python3.11/site-packages/kedro/framework/project/__init__.py\" target=\"_blank\"><span style=\"color: #7f7f7f; text-decoration-color: #7f7f7f\">__init__.py</span></a><span style=\"color: #7f7f7f; text-decoration-color: #7f7f7f\">:</span><a href=\"file:///Users/orlandoandrade/miniconda3/envs/Data_Science/lib/python3.11/site-packages/kedro/framework/project/__init__.py#249\" target=\"_blank\"><span style=\"color: #7f7f7f; text-decoration-color: #7f7f7f\">249</span></a>\n",
       "<span style=\"color: #7fbfbf; text-decoration-color: #7fbfbf\">                    </span>         <span style=\"color: #008000; text-decoration-color: #008000\">'/Users/orlandoandrade/miniconda3/envs/Data_Science/lib/python3.11/sit</span> <span style=\"color: #7f7f7f; text-decoration-color: #7f7f7f\">               </span>\n",
       "<span style=\"color: #7fbfbf; text-decoration-color: #7fbfbf\">                    </span>         <span style=\"color: #008000; text-decoration-color: #008000\">e-packages/kedro/framework/project/rich_logging.yml'</span> as logging        <span style=\"color: #7f7f7f; text-decoration-color: #7f7f7f\">               </span>\n",
       "<span style=\"color: #7fbfbf; text-decoration-color: #7fbfbf\">                    </span>         configuration.                                                         <span style=\"color: #7f7f7f; text-decoration-color: #7f7f7f\">               </span>\n",
       "</pre>\n"
      ]
     },
     "metadata": {},
     "output_type": "display_data"
    },
    {
     "name": "stdout",
     "output_type": "stream",
     "text": [
      "Directorio padre: /Users/orlandoandrade/Documents/Maestria en inteligencia artificial aplicada/Materias/3 trimestre/Repositorio/Repositorio grupal/machine-learning-operations/mlops\n"
     ]
    },
    {
     "data": {
      "text/plain": [],
      "text/html": [
       "<pre style=\"white-space:pre;overflow-x:auto;line-height:normal;font-family:Menlo,'DejaVu Sans Mono',consolas,'Courier New',monospace\"></pre>\n"
      ]
     },
     "metadata": {},
     "output_type": "display_data"
    },
    {
     "data": {
      "text/plain": [
       "\n",
       "\u001B[1;35mProjectMetadata\u001B[0m\u001B[1m(\u001B[0m\n",
       "    \u001B[33mconfig_file\u001B[0m=\u001B[1;35mPosixPath\u001B[0m\u001B[1m(\u001B[0m\u001B[32m'/Users/orlandoandrade/Documents/Maestria en inteligencia artificial aplicada/Materias/3 trimestre/Repositorio/Repositorio grupal/machine-learning-operations/mlops/pyproject.toml'\u001B[0m\u001B[1m)\u001B[0m,\n",
       "    \u001B[33mpackage_name\u001B[0m=\u001B[32m'mlops'\u001B[0m,\n",
       "    \u001B[33mproject_name\u001B[0m=\u001B[32m'MLops'\u001B[0m,\n",
       "    \u001B[33mproject_path\u001B[0m=\u001B[1;35mPosixPath\u001B[0m\u001B[1m(\u001B[0m\u001B[32m'/Users/orlandoandrade/Documents/Maestria en inteligencia artificial aplicada/Materias/3 trimestre/Repositorio/Repositorio grupal/machine-learning-operations/mlops'\u001B[0m\u001B[1m)\u001B[0m,\n",
       "    \u001B[33msource_dir\u001B[0m=\u001B[1;35mPosixPath\u001B[0m\u001B[1m(\u001B[0m\u001B[32m'/Users/orlandoandrade/Documents/Maestria en inteligencia artificial aplicada/Materias/3 trimestre/Repositorio/Repositorio grupal/machine-learning-operations/mlops/src'\u001B[0m\u001B[1m)\u001B[0m,\n",
       "    \u001B[33mkedro_init_version\u001B[0m=\u001B[32m'0.19.8'\u001B[0m,\n",
       "    \u001B[33mtools\u001B[0m=\u001B[1m[\u001B[0m\u001B[32m'Linting'\u001B[0m, \u001B[32m'Testing'\u001B[0m, \u001B[32m'Custom Logging'\u001B[0m, \u001B[32m'Documentation'\u001B[0m, \u001B[32m'Data Structure'\u001B[0m, \u001B[32m'Kedro Viz'\u001B[0m\u001B[1m]\u001B[0m,\n",
       "    \u001B[33mexample_pipeline\u001B[0m=\u001B[32m'False'\u001B[0m\n",
       "\u001B[1m)\u001B[0m"
      ]
     },
     "execution_count": 3,
     "metadata": {},
     "output_type": "execute_result"
    }
   ],
   "execution_count": 3
  },
  {
   "metadata": {
    "ExecuteTime": {
     "end_time": "2024-10-06T18:59:04.481173Z",
     "start_time": "2024-10-06T18:59:04.290840Z"
    }
   },
   "cell_type": "code",
   "source": [
    "# Create a Kedro Session and Load the Context\n",
    "with KedroSession.create(project_path=root_path) as session:\n",
    "    context = session.load_context()"
   ],
   "id": "e63ddcc14e8a4354",
   "outputs": [],
   "execution_count": 4
  },
  {
   "metadata": {},
   "cell_type": "markdown",
   "source": "### 3.2) Importando catalogo y sets de datos declarados ",
   "id": "e8fabb66defa1c03"
  },
  {
   "metadata": {
    "ExecuteTime": {
     "end_time": "2024-10-06T18:59:47.248754Z",
     "start_time": "2024-10-06T18:59:46.666340Z"
    }
   },
   "cell_type": "code",
   "source": [
    "catalog = context.catalog\n",
    "catalog "
   ],
   "id": "8aaa58d998db874",
   "outputs": [
    {
     "data": {
      "text/plain": [
       "\u001B[2;36m[10/06/24 12:59:46]\u001B[0m\u001B[2;36m \u001B[0m\u001B[34mINFO    \u001B[0m Kedro is sending anonymous usage data with the sole purpose of improving \u001B]8;id=530158;file:///Users/orlandoandrade/miniconda3/envs/Data_Science/lib/python3.11/site-packages/kedro_telemetry/plugin.py\u001B\\\u001B[2mplugin.py\u001B[0m\u001B]8;;\u001B\\\u001B[2m:\u001B[0m\u001B]8;id=532005;file:///Users/orlandoandrade/miniconda3/envs/Data_Science/lib/python3.11/site-packages/kedro_telemetry/plugin.py#233\u001B\\\u001B[2m233\u001B[0m\u001B]8;;\u001B\\\n",
       "\u001B[2;36m                    \u001B[0m         the product. No personal data or IP addresses are stored on our side. If \u001B[2m             \u001B[0m\n",
       "\u001B[2;36m                    \u001B[0m         you want to opt out, set the `KEDRO_DISABLE_TELEMETRY` or `DO_NOT_TRACK` \u001B[2m             \u001B[0m\n",
       "\u001B[2;36m                    \u001B[0m         environment variables, or create a `.telemetry` file in the current      \u001B[2m             \u001B[0m\n",
       "\u001B[2;36m                    \u001B[0m         working directory with the contents `consent: false`. Read more at       \u001B[2m             \u001B[0m\n",
       "\u001B[2;36m                    \u001B[0m         \u001B[4;94mhttps://docs.kedro.org/en/stable/configuration/telemetry.html\u001B[0m            \u001B[2m             \u001B[0m\n"
      ],
      "text/html": [
       "<pre style=\"white-space:pre;overflow-x:auto;line-height:normal;font-family:Menlo,'DejaVu Sans Mono',consolas,'Courier New',monospace\"><span style=\"color: #7fbfbf; text-decoration-color: #7fbfbf\">[10/06/24 12:59:46] </span><span style=\"color: #000080; text-decoration-color: #000080\">INFO    </span> Kedro is sending anonymous usage data with the sole purpose of improving <a href=\"file:///Users/orlandoandrade/miniconda3/envs/Data_Science/lib/python3.11/site-packages/kedro_telemetry/plugin.py\" target=\"_blank\"><span style=\"color: #7f7f7f; text-decoration-color: #7f7f7f\">plugin.py</span></a><span style=\"color: #7f7f7f; text-decoration-color: #7f7f7f\">:</span><a href=\"file:///Users/orlandoandrade/miniconda3/envs/Data_Science/lib/python3.11/site-packages/kedro_telemetry/plugin.py#233\" target=\"_blank\"><span style=\"color: #7f7f7f; text-decoration-color: #7f7f7f\">233</span></a>\n",
       "<span style=\"color: #7fbfbf; text-decoration-color: #7fbfbf\">                    </span>         the product. No personal data or IP addresses are stored on our side. If <span style=\"color: #7f7f7f; text-decoration-color: #7f7f7f\">             </span>\n",
       "<span style=\"color: #7fbfbf; text-decoration-color: #7fbfbf\">                    </span>         you want to opt out, set the `KEDRO_DISABLE_TELEMETRY` or `DO_NOT_TRACK` <span style=\"color: #7f7f7f; text-decoration-color: #7f7f7f\">             </span>\n",
       "<span style=\"color: #7fbfbf; text-decoration-color: #7fbfbf\">                    </span>         environment variables, or create a `.telemetry` file in the current      <span style=\"color: #7f7f7f; text-decoration-color: #7f7f7f\">             </span>\n",
       "<span style=\"color: #7fbfbf; text-decoration-color: #7fbfbf\">                    </span>         working directory with the contents `consent: false`. Read more at       <span style=\"color: #7f7f7f; text-decoration-color: #7f7f7f\">             </span>\n",
       "<span style=\"color: #7fbfbf; text-decoration-color: #7fbfbf\">                    </span>         <span style=\"color: #0000ff; text-decoration-color: #0000ff; text-decoration: underline\">https://docs.kedro.org/en/stable/configuration/telemetry.html</span>            <span style=\"color: #7f7f7f; text-decoration-color: #7f7f7f\">             </span>\n",
       "</pre>\n"
      ]
     },
     "metadata": {},
     "output_type": "display_data"
    },
    {
     "data": {
      "text/plain": [],
      "text/html": [
       "<pre style=\"white-space:pre;overflow-x:auto;line-height:normal;font-family:Menlo,'DejaVu Sans Mono',consolas,'Courier New',monospace\"></pre>\n"
      ]
     },
     "metadata": {},
     "output_type": "display_data"
    },
    {
     "data": {
      "text/plain": [
       "\n",
       "\u001B[1m{\u001B[0m\u001B[32m'raw_data'\u001B[0m: \u001B[32m\"kedro_datasets.pandas.excel_dataset.ExcelDataset\u001B[0m\u001B[32m(\u001B[0m\u001B[32mfilepath\u001B[0m\u001B[32m=\u001B[0m\u001B[32mPurePosixPath\u001B[0m\u001B[32m(\u001B[0m\u001B[32m'/Users/orlandoandrade/Documents/Maestria \"\u001B[0m\n",
       "             \u001B[32m'en inteligencia artificial aplicada/Materias/3 '\u001B[0m\n",
       "             \u001B[32m'trimestre/Repositorio/Repositorio '\u001B[0m\n",
       "             \u001B[32m\"grupal/machine-learning-operations/mlops/data/01_raw/ENB2012_data.xlsx'\u001B[0m\u001B[32m)\u001B[0m\u001B[32m, \"\u001B[0m\n",
       "             \u001B[32m\"\u001B[0m\u001B[32mprotocol\u001B[0m\u001B[32m='file', \u001B[0m\u001B[32mload_args\u001B[0m\u001B[32m=\u001B[0m\u001B[32m{\u001B[0m\u001B[32m'engine': 'openpyxl'\u001B[0m\u001B[32m}\u001B[0m\u001B[32m, \"\u001B[0m\n",
       "             \u001B[32m\"\u001B[0m\u001B[32msave_args\u001B[0m\u001B[32m=\u001B[0m\u001B[32m{\u001B[0m\u001B[32m'index': False\u001B[0m\u001B[32m}\u001B[0m\u001B[32m, \u001B[0m\u001B[32mwriter_args\u001B[0m\u001B[32m=\u001B[0m\u001B[32m{\u001B[0m\u001B[32m'engine': 'openpyxl'\u001B[0m\u001B[32m}\u001B[0m\u001B[32m)\u001B[0m\u001B[32m\"\u001B[0m,\n",
       " \u001B[32m'parameters'\u001B[0m: \u001B[32m\"kedro.io.memory_dataset.MemoryDataset\u001B[0m\u001B[32m(\u001B[0m\u001B[32mdata\u001B[0m\u001B[32m='\u001B[0m\u001B[32m<\u001B[0m\u001B[32mdict\u001B[0m\u001B[32m>\u001B[0m\u001B[32m'\u001B[0m\u001B[32m)\u001B[0m\u001B[32m\"\u001B[0m\u001B[1m}\u001B[0m"
      ]
     },
     "execution_count": 5,
     "metadata": {},
     "output_type": "execute_result"
    }
   ],
   "execution_count": 5
  },
  {
   "metadata": {
    "ExecuteTime": {
     "end_time": "2024-10-06T19:00:11.178205Z",
     "start_time": "2024-10-06T19:00:10.802865Z"
    }
   },
   "cell_type": "code",
   "source": [
    "dataset =  catalog.load(\"raw_data\")\n",
    "dataset.head(n=5)"
   ],
   "id": "1692f4810999080b",
   "outputs": [
    {
     "data": {
      "text/plain": [
       "\u001B[2;36m[10/06/24 13:00:10]\u001B[0m\u001B[2;36m \u001B[0m\u001B[34mINFO    \u001B[0m Loading data from \u001B[38;5;208mraw_data\u001B[0m \u001B[1m(\u001B[0mExcelDataset\u001B[1m)\u001B[0m\u001B[33m...\u001B[0m                       \u001B]8;id=370504;file:///Users/orlandoandrade/miniconda3/envs/Data_Science/lib/python3.11/site-packages/kedro/io/data_catalog.py\u001B\\\u001B[2mdata_catalog.py\u001B[0m\u001B]8;;\u001B\\\u001B[2m:\u001B[0m\u001B]8;id=768309;file:///Users/orlandoandrade/miniconda3/envs/Data_Science/lib/python3.11/site-packages/kedro/io/data_catalog.py#539\u001B\\\u001B[2m539\u001B[0m\u001B]8;;\u001B\\\n"
      ],
      "text/html": [
       "<pre style=\"white-space:pre;overflow-x:auto;line-height:normal;font-family:Menlo,'DejaVu Sans Mono',consolas,'Courier New',monospace\"><span style=\"color: #7fbfbf; text-decoration-color: #7fbfbf\">[10/06/24 13:00:10] </span><span style=\"color: #000080; text-decoration-color: #000080\">INFO    </span> Loading data from <span style=\"color: #ff8700; text-decoration-color: #ff8700\">raw_data</span> <span style=\"font-weight: bold\">(</span>ExcelDataset<span style=\"font-weight: bold\">)</span><span style=\"color: #808000; text-decoration-color: #808000\">...</span>                       <a href=\"file:///Users/orlandoandrade/miniconda3/envs/Data_Science/lib/python3.11/site-packages/kedro/io/data_catalog.py\" target=\"_blank\"><span style=\"color: #7f7f7f; text-decoration-color: #7f7f7f\">data_catalog.py</span></a><span style=\"color: #7f7f7f; text-decoration-color: #7f7f7f\">:</span><a href=\"file:///Users/orlandoandrade/miniconda3/envs/Data_Science/lib/python3.11/site-packages/kedro/io/data_catalog.py#539\" target=\"_blank\"><span style=\"color: #7f7f7f; text-decoration-color: #7f7f7f\">539</span></a>\n",
       "</pre>\n"
      ]
     },
     "metadata": {},
     "output_type": "display_data"
    },
    {
     "data": {
      "text/plain": [],
      "text/html": [
       "<pre style=\"white-space:pre;overflow-x:auto;line-height:normal;font-family:Menlo,'DejaVu Sans Mono',consolas,'Courier New',monospace\"></pre>\n"
      ]
     },
     "metadata": {},
     "output_type": "display_data"
    },
    {
     "data": {
      "text/plain": [
       "\n",
       "     X1     X2     X3      X4   X5  X6   X7  X8     Y1     Y2\n",
       "\u001B[1;36m0\u001B[0m  \u001B[1;36m0.98\u001B[0m  \u001B[1;36m514.5\u001B[0m  \u001B[1;36m294.0\u001B[0m  \u001B[1;36m110.25\u001B[0m  \u001B[1;36m7.0\u001B[0m   \u001B[1;36m2\u001B[0m  \u001B[1;36m0.0\u001B[0m   \u001B[1;36m0\u001B[0m  \u001B[1;36m15.55\u001B[0m  \u001B[1;36m21.33\u001B[0m\n",
       "\u001B[1;36m1\u001B[0m  \u001B[1;36m0.98\u001B[0m  \u001B[1;36m514.5\u001B[0m  \u001B[1;36m294.0\u001B[0m  \u001B[1;36m110.25\u001B[0m  \u001B[1;36m7.0\u001B[0m   \u001B[1;36m3\u001B[0m  \u001B[1;36m0.0\u001B[0m   \u001B[1;36m0\u001B[0m  \u001B[1;36m15.55\u001B[0m  \u001B[1;36m21.33\u001B[0m\n",
       "\u001B[1;36m2\u001B[0m  \u001B[1;36m0.98\u001B[0m  \u001B[1;36m514.5\u001B[0m  \u001B[1;36m294.0\u001B[0m  \u001B[1;36m110.25\u001B[0m  \u001B[1;36m7.0\u001B[0m   \u001B[1;36m4\u001B[0m  \u001B[1;36m0.0\u001B[0m   \u001B[1;36m0\u001B[0m  \u001B[1;36m15.55\u001B[0m  \u001B[1;36m21.33\u001B[0m\n",
       "\u001B[1;36m3\u001B[0m  \u001B[1;36m0.98\u001B[0m  \u001B[1;36m514.5\u001B[0m  \u001B[1;36m294.0\u001B[0m  \u001B[1;36m110.25\u001B[0m  \u001B[1;36m7.0\u001B[0m   \u001B[1;36m5\u001B[0m  \u001B[1;36m0.0\u001B[0m   \u001B[1;36m0\u001B[0m  \u001B[1;36m15.55\u001B[0m  \u001B[1;36m21.33\u001B[0m\n",
       "\u001B[1;36m4\u001B[0m  \u001B[1;36m0.90\u001B[0m  \u001B[1;36m563.5\u001B[0m  \u001B[1;36m318.5\u001B[0m  \u001B[1;36m122.50\u001B[0m  \u001B[1;36m7.0\u001B[0m   \u001B[1;36m2\u001B[0m  \u001B[1;36m0.0\u001B[0m   \u001B[1;36m0\u001B[0m  \u001B[1;36m20.84\u001B[0m  \u001B[1;36m28.28\u001B[0m"
      ],
      "text/html": [
       "<div>\n",
       "<style scoped>\n",
       "    .dataframe tbody tr th:only-of-type {\n",
       "        vertical-align: middle;\n",
       "    }\n",
       "\n",
       "    .dataframe tbody tr th {\n",
       "        vertical-align: top;\n",
       "    }\n",
       "\n",
       "    .dataframe thead th {\n",
       "        text-align: right;\n",
       "    }\n",
       "</style>\n",
       "<table border=\"1\" class=\"dataframe\">\n",
       "  <thead>\n",
       "    <tr style=\"text-align: right;\">\n",
       "      <th></th>\n",
       "      <th>X1</th>\n",
       "      <th>X2</th>\n",
       "      <th>X3</th>\n",
       "      <th>X4</th>\n",
       "      <th>X5</th>\n",
       "      <th>X6</th>\n",
       "      <th>X7</th>\n",
       "      <th>X8</th>\n",
       "      <th>Y1</th>\n",
       "      <th>Y2</th>\n",
       "    </tr>\n",
       "  </thead>\n",
       "  <tbody>\n",
       "    <tr>\n",
       "      <th>0</th>\n",
       "      <td>0.98</td>\n",
       "      <td>514.5</td>\n",
       "      <td>294.0</td>\n",
       "      <td>110.25</td>\n",
       "      <td>7.0</td>\n",
       "      <td>2</td>\n",
       "      <td>0.0</td>\n",
       "      <td>0</td>\n",
       "      <td>15.55</td>\n",
       "      <td>21.33</td>\n",
       "    </tr>\n",
       "    <tr>\n",
       "      <th>1</th>\n",
       "      <td>0.98</td>\n",
       "      <td>514.5</td>\n",
       "      <td>294.0</td>\n",
       "      <td>110.25</td>\n",
       "      <td>7.0</td>\n",
       "      <td>3</td>\n",
       "      <td>0.0</td>\n",
       "      <td>0</td>\n",
       "      <td>15.55</td>\n",
       "      <td>21.33</td>\n",
       "    </tr>\n",
       "    <tr>\n",
       "      <th>2</th>\n",
       "      <td>0.98</td>\n",
       "      <td>514.5</td>\n",
       "      <td>294.0</td>\n",
       "      <td>110.25</td>\n",
       "      <td>7.0</td>\n",
       "      <td>4</td>\n",
       "      <td>0.0</td>\n",
       "      <td>0</td>\n",
       "      <td>15.55</td>\n",
       "      <td>21.33</td>\n",
       "    </tr>\n",
       "    <tr>\n",
       "      <th>3</th>\n",
       "      <td>0.98</td>\n",
       "      <td>514.5</td>\n",
       "      <td>294.0</td>\n",
       "      <td>110.25</td>\n",
       "      <td>7.0</td>\n",
       "      <td>5</td>\n",
       "      <td>0.0</td>\n",
       "      <td>0</td>\n",
       "      <td>15.55</td>\n",
       "      <td>21.33</td>\n",
       "    </tr>\n",
       "    <tr>\n",
       "      <th>4</th>\n",
       "      <td>0.90</td>\n",
       "      <td>563.5</td>\n",
       "      <td>318.5</td>\n",
       "      <td>122.50</td>\n",
       "      <td>7.0</td>\n",
       "      <td>2</td>\n",
       "      <td>0.0</td>\n",
       "      <td>0</td>\n",
       "      <td>20.84</td>\n",
       "      <td>28.28</td>\n",
       "    </tr>\n",
       "  </tbody>\n",
       "</table>\n",
       "</div>"
      ]
     },
     "execution_count": 6,
     "metadata": {},
     "output_type": "execute_result"
    }
   ],
   "execution_count": 6
  },
  {
   "metadata": {},
   "cell_type": "markdown",
   "source": "### 3.3) Uso de la función declarada (módulo de la libreria o nodo de Kedro)",
   "id": "5ca3aea22bc279a0"
  },
  {
   "metadata": {
    "ExecuteTime": {
     "end_time": "2024-10-06T19:01:41.998230Z",
     "start_time": "2024-10-06T19:01:41.350096Z"
    }
   },
   "cell_type": "code",
   "source": "boxplot(dataset=dataset, columns =[\"X1\", \"X2\"]) # Vease como puedo utiliar la función declarada , importandola como un modulo de la libreria creada",
   "id": "6f5e0f90a429340a",
   "outputs": [
    {
     "data": {
      "text/plain": [],
      "text/html": [
       "<pre style=\"white-space:pre;overflow-x:auto;line-height:normal;font-family:Menlo,'DejaVu Sans Mono',consolas,'Courier New',monospace\"></pre>\n"
      ]
     },
     "metadata": {},
     "output_type": "display_data"
    },
    {
     "data": {
      "text/plain": [
       "\u001B[1m<\u001B[0m\u001B[1;95mFigure\u001B[0m\u001B[39m size 64\u001B[0m\u001B[1;36m0x480\u001B[0m\u001B[39m with \u001B[0m\u001B[1;36m1\u001B[0m\u001B[39m Axes\u001B[0m\u001B[1m>\u001B[0m"
      ],
      "image/png": "[encoded data removed]"
     },
     "metadata": {},
     "output_type": "display_data"
    },
    {
     "data": {
      "text/plain": [],
      "text/html": [
       "<pre style=\"white-space:pre;overflow-x:auto;line-height:normal;font-family:Menlo,'DejaVu Sans Mono',consolas,'Courier New',monospace\"></pre>\n"
      ]
     },
     "metadata": {},
     "output_type": "display_data"
    },
    {
     "data": {
      "text/plain": [
       "\u001B[1m<\u001B[0m\u001B[1;95mFigure\u001B[0m\u001B[39m size 64\u001B[0m\u001B[1;36m0x480\u001B[0m\u001B[39m with \u001B[0m\u001B[1;36m1\u001B[0m\u001B[39m Axes\u001B[0m\u001B[1m>\u001B[0m"
      ],
      "image/png": "[encoded data removed]"
     },
     "metadata": {},
     "output_type": "display_data"
    }
   ],
   "execution_count": 8
  },
  {
   "metadata": {},
   "cell_type": "code",
   "outputs": [],
   "execution_count": null,
   "source": "",
   "id": "4b2c00d5b885054a"
  },
  {
   "metadata": {},
   "cell_type": "code",
   "outputs": [],
   "execution_count": null,
   "source": "",
   "id": "bc45c6bf9d4247e5"
  }
 ],
 "metadata": {
  "kernelspec": {
   "display_name": "Python 3",
   "language": "python",
   "name": "python3"
  },
  "language_info": {
   "codemirror_mode": {
    "name": "ipython",
    "version": 2
   },
   "file_extension": ".py",
   "mimetype": "text/x-python",
   "name": "python",
   "nbconvert_exporter": "python",
   "pygments_lexer": "ipython2",
   "version": "2.7.6"
  }
 },
 "nbformat": 4,
 "nbformat_minor": 5
}
